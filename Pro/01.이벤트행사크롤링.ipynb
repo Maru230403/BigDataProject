{
 "cells": [
  {
   "cell_type": "code",
   "execution_count": 23,
   "metadata": {},
   "outputs": [],
   "source": [
    "import time\n",
    "import math\n",
    "import pandas as pd \n",
    "from bs4 import BeautifulSoup\n",
    "from selenium import webdriver\n",
    "from selenium.webdriver.common.by import By\n",
    "from selenium.webdriver.common.keys import Keys\n",
    "from urllib.parse import quote\n",
    "from tqdm import tqdm\n",
    "from selenium.webdriver.support.ui import WebDriverWait\n",
    "from selenium.webdriver.support import expected_conditions as EC\n",
    "from selenium.common.exceptions import StaleElementReferenceException, TimeoutException"
   ]
  },
  {
   "cell_type": "code",
   "execution_count": 24,
   "metadata": {},
   "outputs": [],
   "source": [
    "# 한국관광공사 공연/행사 주소 입력\n",
    "url = 'https://korean.visitkorea.or.kr/list/travelinfo.do?service=show'\n",
    "driver = webdriver.Chrome()\n",
    "driver.get(url)\n",
    "soup = BeautifulSoup(driver.page_source, 'html.parser')\n",
    "time.sleep(2)"
   ]
  },
  {
   "cell_type": "code",
   "execution_count": 25,
   "metadata": {},
   "outputs": [],
   "source": [
    "#서울태그 선택\n",
    "driver.find_element(By.XPATH, '//*[@id=\"1\"]/button/span').click()\n",
    "time.sleep(2)"
   ]
  },
  {
   "cell_type": "code",
   "execution_count": 26,
   "metadata": {},
   "outputs": [
    {
     "data": {
      "text/plain": [
       "10"
      ]
     },
     "execution_count": 26,
     "metadata": {},
     "output_type": "execute_result"
    }
   ],
   "source": [
    "# 한페이지에 있는 축제갯수\n",
    "lis = soup.select('#contents > div.wrap_contView.clfix > div.box_leftType1 > ul > li')\n",
    "len(lis)"
   ]
  },
  {
   "cell_type": "code",
   "execution_count": 27,
   "metadata": {},
   "outputs": [],
   "source": [
    "# 행사 클릭\n",
    "driver.find_element(By.CSS_SELECTOR, '.tit').click()"
   ]
  },
  {
   "cell_type": "code",
   "execution_count": 28,
   "metadata": {},
   "outputs": [
    {
     "data": {
      "text/plain": [
       "<div class=\"tit\"> <a href=\"javascript:;\" onclick=\"goDetail('7b214c98-e4f0-4566-9d79-69eb39e8cde0','A02','A0208','1');\">2023년 청와대 밤의 산책</a> </div>"
      ]
     },
     "execution_count": 28,
     "metadata": {},
     "output_type": "execute_result"
    }
   ],
   "source": [
    "li = lis[0]\n",
    "li.select_one('.tit')"
   ]
  },
  {
   "cell_type": "code",
   "execution_count": 29,
   "metadata": {},
   "outputs": [
    {
     "data": {
      "text/plain": [
       "'2023년 청와대 밤의 산책'"
      ]
     },
     "execution_count": 29,
     "metadata": {},
     "output_type": "execute_result"
    }
   ],
   "source": [
    "# 행사이름\n",
    "sub_soup = BeautifulSoup(driver.page_source, 'html.parser')\n",
    "title = sub_soup.select_one('#topTitle').get_text().strip()\n",
    "title"
   ]
  },
  {
   "cell_type": "code",
   "execution_count": 30,
   "metadata": {},
   "outputs": [
    {
     "data": {
      "text/plain": [
       "'2023. 12. 6. ~ 2023. 12. 11.'"
      ]
     },
     "execution_count": 30,
     "metadata": {},
     "output_type": "execute_result"
    }
   ],
   "source": [
    "# 행사 날짜\n",
    "date = sub_soup.select_one('#topAddr > span:nth-child(2)').get_text()\n",
    "date"
   ]
  },
  {
   "cell_type": "code",
   "execution_count": 31,
   "metadata": {},
   "outputs": [
    {
     "data": {
      "text/plain": [
       "'서울특별시 종로구 청와대로 1 청와대'"
      ]
     },
     "execution_count": 31,
     "metadata": {},
     "output_type": "execute_result"
    }
   ],
   "source": [
    "# 행사 주소\n",
    "addr = sub_soup.select_one('#detailGo > div:nth-child(5) > div > div.inr_wrap > div > ul > li:nth-child(5) > span').get_text()\n",
    "addr"
   ]
  },
  {
   "cell_type": "code",
   "execution_count": 32,
   "metadata": {},
   "outputs": [
    {
     "name": "stdout",
     "output_type": "stream",
     "text": [
      "[{'제목': '2023년 청와대 밤의 산책', '기간': '2023. 12. 6. ~ 2023. 12. 11.', '장소': '서울특별시 종로구 청와대로 1 청와대'}]\n"
     ]
    }
   ],
   "source": [
    "data = []\n",
    "data.append({'제목':title, '기간':date, '장소':addr})\n",
    "print(data)"
   ]
  },
  {
   "cell_type": "code",
   "execution_count": 36,
   "metadata": {},
   "outputs": [
    {
     "ename": "IndexError",
     "evalue": "list index out of range",
     "output_type": "error",
     "traceback": [
      "\u001b[1;31m---------------------------------------------------------------------------\u001b[0m",
      "\u001b[1;31mIndexError\u001b[0m                                Traceback (most recent call last)",
      "\u001b[1;32md:\\WorkSpace\\BigDataProject\\Pro\\01.이벤트행사크롤링.ipynb 셀 11\u001b[0m line \u001b[0;36m8\n\u001b[0;32m     <a href='vscode-notebook-cell:/d%3A/WorkSpace/BigDataProject/Pro/01.%EC%9D%B4%EB%B2%A4%ED%8A%B8%ED%96%89%EC%82%AC%ED%81%AC%EB%A1%A4%EB%A7%81.ipynb#X14sZmlsZQ%3D%3D?line=77'>78</a>\u001b[0m \u001b[39m# 세 번째 루트 (12~15 페이지)\u001b[39;00m\n\u001b[0;32m     <a href='vscode-notebook-cell:/d%3A/WorkSpace/BigDataProject/Pro/01.%EC%9D%B4%EB%B2%A4%ED%8A%B8%ED%96%89%EC%82%AC%ED%81%AC%EB%A1%A4%EB%A7%81.ipynb#X14sZmlsZQ%3D%3D?line=78'>79</a>\u001b[0m \u001b[39mfor\u001b[39;00m i \u001b[39min\u001b[39;00m \u001b[39mrange\u001b[39m(\u001b[39m3\u001b[39m, \u001b[39m7\u001b[39m):\n\u001b[1;32m---> <a href='vscode-notebook-cell:/d%3A/WorkSpace/BigDataProject/Pro/01.%EC%9D%B4%EB%B2%A4%ED%8A%B8%ED%96%89%EC%82%AC%ED%81%AC%EB%A1%A4%EB%A7%81.ipynb#X14sZmlsZQ%3D%3D?line=79'>80</a>\u001b[0m     driver\u001b[39m.\u001b[39mfind_elements(By\u001b[39m.\u001b[39mCSS_SELECTOR, \u001b[39m'\u001b[39m\u001b[39m.page_box > a\u001b[39m\u001b[39m'\u001b[39m)[i]\u001b[39m.\u001b[39mclick()\n\u001b[0;32m     <a href='vscode-notebook-cell:/d%3A/WorkSpace/BigDataProject/Pro/01.%EC%9D%B4%EB%B2%A4%ED%8A%B8%ED%96%89%EC%82%AC%ED%81%AC%EB%A1%A4%EB%A7%81.ipynb#X14sZmlsZQ%3D%3D?line=80'>81</a>\u001b[0m     time\u001b[39m.\u001b[39msleep(\u001b[39m3\u001b[39m)\n\u001b[0;32m     <a href='vscode-notebook-cell:/d%3A/WorkSpace/BigDataProject/Pro/01.%EC%9D%B4%EB%B2%A4%ED%8A%B8%ED%96%89%EC%82%AC%ED%81%AC%EB%A1%A4%EB%A7%81.ipynb#X14sZmlsZQ%3D%3D?line=82'>83</a>\u001b[0m     soup \u001b[39m=\u001b[39m BeautifulSoup(driver\u001b[39m.\u001b[39mpage_source, \u001b[39m'\u001b[39m\u001b[39mhtml.parser\u001b[39m\u001b[39m'\u001b[39m)\n",
      "\u001b[1;31mIndexError\u001b[0m: list index out of range"
     ]
    }
   ],
   "source": [
    "from selenium import webdriver\n",
    "from selenium.webdriver.common.by import By\n",
    "from selenium.webdriver.support.ui import WebDriverWait\n",
    "from selenium.webdriver.support import expected_conditions as EC\n",
    "from bs4 import BeautifulSoup\n",
    "import time\n",
    "\n",
    "data = []\n",
    "url = 'https://korean.visitkorea.or.kr/list/travelinfo.do?service=show'\n",
    "driver = webdriver.Chrome()\n",
    "driver.get(url)\n",
    "\n",
    "# 서울태그\n",
    "driver.find_element(By.XPATH, '//*[@id=\"1\"]/button/span').click()\n",
    "time.sleep(2)\n",
    "\n",
    "# 첫 번째 루트 (1~6 페이지)\n",
    "for i in range(0, 6):\n",
    "    driver.find_elements(By.CSS_SELECTOR, '.page_box > a')[i].click()\n",
    "    time.sleep(3)\n",
    "\n",
    "    soup = BeautifulSoup(driver.page_source, 'html.parser')\n",
    "    lis = soup.select('#contents > div.wrap_contView.clfix > div.box_leftType1 > ul > li')\n",
    "# 행사 크롤링\n",
    "    for i in range(len(lis)):\n",
    "        driver.find_elements(By.CSS_SELECTOR,'.tit')[i].click()\n",
    "        time.sleep(5)\n",
    "        sub_soup = BeautifulSoup(driver.page_source, 'html.parser')\n",
    "\n",
    "        title = sub_soup.select_one('#topTitle').get_text().strip()\n",
    "        date = sub_soup.select_one('#topAddr > span:nth-child(2)').get_text().strip()\n",
    "        try:\n",
    "        # Attempt to get the address using the first selector\n",
    "            addr_element = sub_soup.select_one('#detailGo > div:nth-child(5) > div > div.inr_wrap > div > ul > li:nth-child(5) > span')\n",
    "            addr = addr_element.get_text().strip()\n",
    "        except AttributeError:\n",
    "            try:\n",
    "                # If the first selector fails, attempt to get the address using the second selector\n",
    "                addr_element = sub_soup.select_one('#detailGo > div:nth-child(5) > div > div.inr_wrap > div > ul > li:nth-child(5) > a > span')\n",
    "                addr = addr_element.get_text().strip() if addr_element else 'N/A'\n",
    "            except AttributeError:\n",
    "                addr = 'N/A'\n",
    "\n",
    "        data.append({'제목': title, '기간': date, '주소': addr})\n",
    "        driver.back()\n",
    "        time.sleep(1)\n",
    "\n",
    "# 두 번째 루트 (7~11 페이지)\n",
    "for i in range(3, 8):\n",
    "    driver.find_elements(By.CSS_SELECTOR, '.page_box > a')[i].click()\n",
    "    time.sleep(3)\n",
    "\n",
    "    soup = BeautifulSoup(driver.page_source, 'html.parser')\n",
    "\n",
    "    lis = soup.select('#contents > div.wrap_contView.clfix > div.box_leftType1 > ul > li')\n",
    "    for i in range(len(lis)):\n",
    "        driver.find_elements(By.CSS_SELECTOR,'.tit')[i].click()\n",
    "        time.sleep(5)\n",
    "        sub_soup = BeautifulSoup(driver.page_source, 'html.parser')\n",
    "        title = sub_soup.select_one('#topTitle').get_text().strip()\n",
    "        date = sub_soup.select_one('#topAddr > span:nth-child(2)').get_text().strip()\n",
    "        try:\n",
    "        # Attempt to get the address using the first selector\n",
    "            addr_element = sub_soup.select_one('#detailGo > div:nth-child(5) > div > div.inr_wrap > div > ul > li:nth-child(5) > span')\n",
    "            addr = addr_element.get_text().strip()\n",
    "        except AttributeError:\n",
    "            try:\n",
    "                # If the first selector fails, attempt to get the address using the second selector\n",
    "                addr_element = sub_soup.select_one('#detailGo > div:nth-child(5) > div > div.inr_wrap > div > ul > li:nth-child(5) > a > span')\n",
    "                addr = addr_element.get_text().strip() if addr_element else 'N/A'\n",
    "            except AttributeError:\n",
    "                addr = 'N/A'\n",
    "\n",
    "        data.append({'제목': title, '기간': date, '주소': addr})\n",
    "        driver.back()\n",
    "        time.sleep(1)\n",
    "\n",
    "# 세 번째 루트 (12~15 페이지)\n",
    "for i in range(3, 6):\n",
    "    driver.find_elements(By.CSS_SELECTOR, '.page_box > a')[i].click()\n",
    "    time.sleep(3)\n",
    "\n",
    "    soup = BeautifulSoup(driver.page_source, 'html.parser')\n",
    "\n",
    "    lis = soup.select('#contents > div.wrap_contView.clfix > div.box_leftType1 > ul > li')\n",
    "    for i in range(len(lis)):\n",
    "        driver.find_elements(By.CSS_SELECTOR,'.tit')[i].click()\n",
    "        time.sleep(5)\n",
    "        sub_soup = BeautifulSoup(driver.page_source, 'html.parser')\n",
    "        title = sub_soup.select_one('#topTitle').get_text().strip()\n",
    "        date = sub_soup.select_one('#topAddr > span:nth-child(2)').get_text().strip()\n",
    "        try:\n",
    "        # Attempt to get the address using the first selector\n",
    "            addr_element = sub_soup.select_one('#detailGo > div:nth-child(5) > div > div.inr_wrap > div > ul > li:nth-child(5) > span')\n",
    "            addr = addr_element.get_text().strip()\n",
    "        except AttributeError:\n",
    "            try:\n",
    "                # If the first selector fails, attempt to get the address using the second selector\n",
    "                addr_element = sub_soup.select_one('#detailGo > div:nth-child(5) > div > div.inr_wrap > div > ul > li:nth-child(5) > a > span')\n",
    "                addr = addr_element.get_text().strip() if addr_element else 'N/A'\n",
    "            except AttributeError:\n",
    "                addr = 'N/A'\n",
    "\n",
    "        data.append({'제목': title, '기간': date, '주소': addr})\n",
    "        driver.back()\n",
    "        time.sleep(1)\n",
    "\n",
    "driver.close()\n",
    "\n",
    "# 데이터 출력 또는 저장 등 추가 작업 수행\n",
    "print(data)\n"
   ]
  },
  {
   "cell_type": "code",
   "execution_count": 37,
   "metadata": {},
   "outputs": [],
   "source": [
    "import pandas as pd\n",
    "df = pd.DataFrame(data)"
   ]
  },
  {
   "cell_type": "code",
   "execution_count": 38,
   "metadata": {},
   "outputs": [
    {
     "data": {
      "text/html": [
       "<div>\n",
       "<style scoped>\n",
       "    .dataframe tbody tr th:only-of-type {\n",
       "        vertical-align: middle;\n",
       "    }\n",
       "\n",
       "    .dataframe tbody tr th {\n",
       "        vertical-align: top;\n",
       "    }\n",
       "\n",
       "    .dataframe thead th {\n",
       "        text-align: right;\n",
       "    }\n",
       "</style>\n",
       "<table border=\"1\" class=\"dataframe\">\n",
       "  <thead>\n",
       "    <tr style=\"text-align: right;\">\n",
       "      <th></th>\n",
       "      <th>제목</th>\n",
       "      <th>기간</th>\n",
       "      <th>주소</th>\n",
       "    </tr>\n",
       "  </thead>\n",
       "  <tbody>\n",
       "    <tr>\n",
       "      <th>0</th>\n",
       "      <td>2023년 청와대 밤의 산책</td>\n",
       "      <td>2023. 12. 6. ~ 2023. 12. 11.</td>\n",
       "      <td>서울특별시 종로구 청와대로 1 청와대</td>\n",
       "    </tr>\n",
       "    <tr>\n",
       "      <th>1</th>\n",
       "      <td>2023 도서관 정책세미나</td>\n",
       "      <td>2023. 12. 7. ~ 2023. 12. 7.</td>\n",
       "      <td>서울특별시 서초구 반포대로 201 (반포동)</td>\n",
       "    </tr>\n",
       "    <tr>\n",
       "      <th>2</th>\n",
       "      <td>서울일러스트레이션페어V.16</td>\n",
       "      <td>2023. 12. 21. ~ 2023. 12. 24.</td>\n",
       "      <td>서울특별시 강남구 영동대로 513 (삼성동)</td>\n",
       "    </tr>\n",
       "    <tr>\n",
       "      <th>3</th>\n",
       "      <td>썬셋&amp;썬라이즈워크</td>\n",
       "      <td>2023. 12. 28. ~ 2024. 1. 4.</td>\n",
       "      <td>서울특별시 용산구 남산공원길 105 (용산동2가)</td>\n",
       "    </tr>\n",
       "    <tr>\n",
       "      <th>4</th>\n",
       "      <td>2024 코리아그랜드세일</td>\n",
       "      <td>2024. 1. 11. ~ 2024. 2. 29.</td>\n",
       "      <td>서울특별시 종로구 인사동5길 29 태화빌딩</td>\n",
       "    </tr>\n",
       "    <tr>\n",
       "      <th>...</th>\n",
       "      <td>...</td>\n",
       "      <td>...</td>\n",
       "      <td>...</td>\n",
       "    </tr>\n",
       "    <tr>\n",
       "      <th>131</th>\n",
       "      <td>무브컬쳐 축제학교 시즌2: 우리의 문화기획 스토리</td>\n",
       "      <td>2022. 3. 12. ~ 2022. 3. 12.</td>\n",
       "      <td>서울특별시 강남구  논현로 (134, 연산MS)</td>\n",
       "    </tr>\n",
       "    <tr>\n",
       "      <th>132</th>\n",
       "      <td>늘근도둑 이야기</td>\n",
       "      <td>2022. 3. 5. ~ 2022. 12. 31.</td>\n",
       "      <td>대학로 아트포레스트 1관</td>\n",
       "    </tr>\n",
       "    <tr>\n",
       "      <th>133</th>\n",
       "      <td>문화로 토닥토닥 “찾아가는 공연”</td>\n",
       "      <td>2021. 4. 25. ~ 2021. 5. 5.</td>\n",
       "      <td>온라인개최</td>\n",
       "    </tr>\n",
       "    <tr>\n",
       "      <th>134</th>\n",
       "      <td>일본군 '위안부' 기억의 터 문화해설 프로그램</td>\n",
       "      <td>2021. 4. 6. ~ 2021. 11. 29.</td>\n",
       "      <td>서울특별시 중구 퇴계로26가길 6</td>\n",
       "    </tr>\n",
       "    <tr>\n",
       "      <th>135</th>\n",
       "      <td>종로의 이야기꾼, 전기수!</td>\n",
       "      <td>개최여부 확인 중 입니다.</td>\n",
       "      <td>종로구청</td>\n",
       "    </tr>\n",
       "  </tbody>\n",
       "</table>\n",
       "<p>136 rows × 3 columns</p>\n",
       "</div>"
      ],
      "text/plain": [
       "                              제목                             기간  \\\n",
       "0                2023년 청와대 밤의 산책   2023. 12. 6. ~ 2023. 12. 11.   \n",
       "1                 2023 도서관 정책세미나    2023. 12. 7. ~ 2023. 12. 7.   \n",
       "2                서울일러스트레이션페어V.16  2023. 12. 21. ~ 2023. 12. 24.   \n",
       "3                      썬셋&썬라이즈워크    2023. 12. 28. ~ 2024. 1. 4.   \n",
       "4                  2024 코리아그랜드세일    2024. 1. 11. ~ 2024. 2. 29.   \n",
       "..                           ...                            ...   \n",
       "131  무브컬쳐 축제학교 시즌2: 우리의 문화기획 스토리    2022. 3. 12. ~ 2022. 3. 12.   \n",
       "132                     늘근도둑 이야기    2022. 3. 5. ~ 2022. 12. 31.   \n",
       "133           문화로 토닥토닥 “찾아가는 공연”     2021. 4. 25. ~ 2021. 5. 5.   \n",
       "134    일본군 '위안부' 기억의 터 문화해설 프로그램    2021. 4. 6. ~ 2021. 11. 29.   \n",
       "135               종로의 이야기꾼, 전기수!                 개최여부 확인 중 입니다.   \n",
       "\n",
       "                              주소  \n",
       "0           서울특별시 종로구 청와대로 1 청와대  \n",
       "1       서울특별시 서초구 반포대로 201 (반포동)  \n",
       "2       서울특별시 강남구 영동대로 513 (삼성동)  \n",
       "3    서울특별시 용산구 남산공원길 105 (용산동2가)  \n",
       "4        서울특별시 종로구 인사동5길 29 태화빌딩  \n",
       "..                           ...  \n",
       "131   서울특별시 강남구  논현로 (134, 연산MS)  \n",
       "132                대학로 아트포레스트 1관  \n",
       "133                        온라인개최  \n",
       "134           서울특별시 중구 퇴계로26가길 6  \n",
       "135                         종로구청  \n",
       "\n",
       "[136 rows x 3 columns]"
      ]
     },
     "execution_count": 38,
     "metadata": {},
     "output_type": "execute_result"
    }
   ],
   "source": [
    "df"
   ]
  },
  {
   "cell_type": "code",
   "execution_count": 39,
   "metadata": {},
   "outputs": [
    {
     "data": {
      "text/plain": [
       "제목    0\n",
       "기간    0\n",
       "주소    0\n",
       "dtype: int64"
      ]
     },
     "execution_count": 39,
     "metadata": {},
     "output_type": "execute_result"
    }
   ],
   "source": [
    "df.isna().sum()"
   ]
  },
  {
   "cell_type": "code",
   "execution_count": 40,
   "metadata": {},
   "outputs": [],
   "source": [
    "df.to_csv('data/이벤트행사.csv')"
   ]
  },
  {
   "cell_type": "code",
   "execution_count": null,
   "metadata": {},
   "outputs": [],
   "source": []
  }
 ],
 "metadata": {
  "kernelspec": {
   "display_name": "base",
   "language": "python",
   "name": "python3"
  },
  "language_info": {
   "codemirror_mode": {
    "name": "ipython",
    "version": 3
   },
   "file_extension": ".py",
   "mimetype": "text/x-python",
   "name": "python",
   "nbconvert_exporter": "python",
   "pygments_lexer": "ipython3",
   "version": "3.11.4"
  }
 },
 "nbformat": 4,
 "nbformat_minor": 2
}
