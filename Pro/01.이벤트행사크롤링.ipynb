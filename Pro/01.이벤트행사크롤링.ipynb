{
 "cells": [
  {
   "cell_type": "code",
   "execution_count": 1,
   "metadata": {},
   "outputs": [],
   "source": [
    "import time\n",
    "import pandas as pd \n",
    "from bs4 import BeautifulSoup\n",
    "from selenium import webdriver\n",
    "from selenium.webdriver.common.by import By\n",
    "from selenium.webdriver.common.keys import Keys\n",
    "from urllib.parse import quote\n",
    "from tqdm import tqdm"
   ]
  },
  {
   "cell_type": "code",
   "execution_count": 2,
   "metadata": {},
   "outputs": [],
   "source": [
    "# 한국관광공사 공연/행사 주소 입력\n",
    "url = 'https://korean.visitkorea.or.kr/list/travelinfo.do?service=show'\n",
    "driver = webdriver.Chrome()\n",
    "driver.get(url)\n",
    "soup = BeautifulSoup(driver.page_source, 'html.parser')\n",
    "time.sleep(2)"
   ]
  },
  {
   "cell_type": "code",
   "execution_count": 3,
   "metadata": {},
   "outputs": [
    {
     "ename": "ElementNotInteractableException",
     "evalue": "Message: element not interactable\n  (Session info: chrome=119.0.6045.160)\nStacktrace:\n\tGetHandleVerifier [0x00007FF75A8F82B2+55298]\n\t(No symbol) [0x00007FF75A865E02]\n\t(No symbol) [0x00007FF75A72045D]\n\t(No symbol) [0x00007FF75A762B4C]\n\t(No symbol) [0x00007FF75A7587BF]\n\t(No symbol) [0x00007FF75A7820AA]\n\t(No symbol) [0x00007FF75A7580CF]\n\t(No symbol) [0x00007FF75A7822C0]\n\t(No symbol) [0x00007FF75A79AAA4]\n\t(No symbol) [0x00007FF75A781E83]\n\t(No symbol) [0x00007FF75A75670A]\n\t(No symbol) [0x00007FF75A757964]\n\tGetHandleVerifier [0x00007FF75AC70AAB+3694587]\n\tGetHandleVerifier [0x00007FF75ACC728E+4048862]\n\tGetHandleVerifier [0x00007FF75ACBF173+4015811]\n\tGetHandleVerifier [0x00007FF75A9947D6+695590]\n\t(No symbol) [0x00007FF75A870CE8]\n\t(No symbol) [0x00007FF75A86CF34]\n\t(No symbol) [0x00007FF75A86D062]\n\t(No symbol) [0x00007FF75A85D3A3]\n\tBaseThreadInitThunk [0x00007FFAB40C7344+20]\n\tRtlUserThreadStart [0x00007FFAB46A26B1+33]\n",
     "output_type": "error",
     "traceback": [
      "\u001b[1;31m---------------------------------------------------------------------------\u001b[0m",
      "\u001b[1;31mElementNotInteractableException\u001b[0m           Traceback (most recent call last)",
      "\u001b[1;32md:\\WorkSpace\\Pro\\01.한국관광공사크롤링.ipynb 셀 3\u001b[0m line \u001b[0;36m2\n\u001b[0;32m      <a href='vscode-notebook-cell:/d%3A/WorkSpace/Pro/01.%ED%95%9C%EA%B5%AD%EA%B4%80%EA%B4%91%EA%B3%B5%EC%82%AC%ED%81%AC%EB%A1%A4%EB%A7%81.ipynb#X20sZmlsZQ%3D%3D?line=0'>1</a>\u001b[0m \u001b[39m#서울태그 선택\u001b[39;00m\n\u001b[1;32m----> <a href='vscode-notebook-cell:/d%3A/WorkSpace/Pro/01.%ED%95%9C%EA%B5%AD%EA%B4%80%EA%B4%91%EA%B3%B5%EC%82%AC%ED%81%AC%EB%A1%A4%EB%A7%81.ipynb#X20sZmlsZQ%3D%3D?line=1'>2</a>\u001b[0m driver\u001b[39m.\u001b[39mfind_element(By\u001b[39m.\u001b[39mXPATH, \u001b[39m'\u001b[39m\u001b[39m//*[@id=\u001b[39m\u001b[39m\"\u001b[39m\u001b[39m1\u001b[39m\u001b[39m\"\u001b[39m\u001b[39m]/button\u001b[39m\u001b[39m'\u001b[39m)\u001b[39m.\u001b[39mclick()\n\u001b[0;32m      <a href='vscode-notebook-cell:/d%3A/WorkSpace/Pro/01.%ED%95%9C%EA%B5%AD%EA%B4%80%EA%B4%91%EA%B3%B5%EC%82%AC%ED%81%AC%EB%A1%A4%EB%A7%81.ipynb#X20sZmlsZQ%3D%3D?line=2'>3</a>\u001b[0m time\u001b[39m.\u001b[39msleep(\u001b[39m2\u001b[39m)\n",
      "File \u001b[1;32mc:\\Users\\human\\anaconda3\\Lib\\site-packages\\selenium\\webdriver\\remote\\webelement.py:93\u001b[0m, in \u001b[0;36mWebElement.click\u001b[1;34m(self)\u001b[0m\n\u001b[0;32m     91\u001b[0m \u001b[39mdef\u001b[39;00m \u001b[39mclick\u001b[39m(\u001b[39mself\u001b[39m) \u001b[39m-\u001b[39m\u001b[39m>\u001b[39m \u001b[39mNone\u001b[39;00m:\n\u001b[0;32m     92\u001b[0m \u001b[39m    \u001b[39m\u001b[39m\"\"\"Clicks the element.\"\"\"\u001b[39;00m\n\u001b[1;32m---> 93\u001b[0m     \u001b[39mself\u001b[39m\u001b[39m.\u001b[39m_execute(Command\u001b[39m.\u001b[39mCLICK_ELEMENT)\n",
      "File \u001b[1;32mc:\\Users\\human\\anaconda3\\Lib\\site-packages\\selenium\\webdriver\\remote\\webelement.py:394\u001b[0m, in \u001b[0;36mWebElement._execute\u001b[1;34m(self, command, params)\u001b[0m\n\u001b[0;32m    392\u001b[0m     params \u001b[39m=\u001b[39m {}\n\u001b[0;32m    393\u001b[0m params[\u001b[39m\"\u001b[39m\u001b[39mid\u001b[39m\u001b[39m\"\u001b[39m] \u001b[39m=\u001b[39m \u001b[39mself\u001b[39m\u001b[39m.\u001b[39m_id\n\u001b[1;32m--> 394\u001b[0m \u001b[39mreturn\u001b[39;00m \u001b[39mself\u001b[39m\u001b[39m.\u001b[39m_parent\u001b[39m.\u001b[39mexecute(command, params)\n",
      "File \u001b[1;32mc:\\Users\\human\\anaconda3\\Lib\\site-packages\\selenium\\webdriver\\remote\\webdriver.py:344\u001b[0m, in \u001b[0;36mWebDriver.execute\u001b[1;34m(self, driver_command, params)\u001b[0m\n\u001b[0;32m    342\u001b[0m response \u001b[39m=\u001b[39m \u001b[39mself\u001b[39m\u001b[39m.\u001b[39mcommand_executor\u001b[39m.\u001b[39mexecute(driver_command, params)\n\u001b[0;32m    343\u001b[0m \u001b[39mif\u001b[39;00m response:\n\u001b[1;32m--> 344\u001b[0m     \u001b[39mself\u001b[39m\u001b[39m.\u001b[39merror_handler\u001b[39m.\u001b[39mcheck_response(response)\n\u001b[0;32m    345\u001b[0m     response[\u001b[39m\"\u001b[39m\u001b[39mvalue\u001b[39m\u001b[39m\"\u001b[39m] \u001b[39m=\u001b[39m \u001b[39mself\u001b[39m\u001b[39m.\u001b[39m_unwrap_value(response\u001b[39m.\u001b[39mget(\u001b[39m\"\u001b[39m\u001b[39mvalue\u001b[39m\u001b[39m\"\u001b[39m, \u001b[39mNone\u001b[39;00m))\n\u001b[0;32m    346\u001b[0m     \u001b[39mreturn\u001b[39;00m response\n",
      "File \u001b[1;32mc:\\Users\\human\\anaconda3\\Lib\\site-packages\\selenium\\webdriver\\remote\\errorhandler.py:229\u001b[0m, in \u001b[0;36mErrorHandler.check_response\u001b[1;34m(self, response)\u001b[0m\n\u001b[0;32m    227\u001b[0m         alert_text \u001b[39m=\u001b[39m value[\u001b[39m\"\u001b[39m\u001b[39malert\u001b[39m\u001b[39m\"\u001b[39m]\u001b[39m.\u001b[39mget(\u001b[39m\"\u001b[39m\u001b[39mtext\u001b[39m\u001b[39m\"\u001b[39m)\n\u001b[0;32m    228\u001b[0m     \u001b[39mraise\u001b[39;00m exception_class(message, screen, stacktrace, alert_text)  \u001b[39m# type: ignore[call-arg]  # mypy is not smart enough here\u001b[39;00m\n\u001b[1;32m--> 229\u001b[0m \u001b[39mraise\u001b[39;00m exception_class(message, screen, stacktrace)\n",
      "\u001b[1;31mElementNotInteractableException\u001b[0m: Message: element not interactable\n  (Session info: chrome=119.0.6045.160)\nStacktrace:\n\tGetHandleVerifier [0x00007FF75A8F82B2+55298]\n\t(No symbol) [0x00007FF75A865E02]\n\t(No symbol) [0x00007FF75A72045D]\n\t(No symbol) [0x00007FF75A762B4C]\n\t(No symbol) [0x00007FF75A7587BF]\n\t(No symbol) [0x00007FF75A7820AA]\n\t(No symbol) [0x00007FF75A7580CF]\n\t(No symbol) [0x00007FF75A7822C0]\n\t(No symbol) [0x00007FF75A79AAA4]\n\t(No symbol) [0x00007FF75A781E83]\n\t(No symbol) [0x00007FF75A75670A]\n\t(No symbol) [0x00007FF75A757964]\n\tGetHandleVerifier [0x00007FF75AC70AAB+3694587]\n\tGetHandleVerifier [0x00007FF75ACC728E+4048862]\n\tGetHandleVerifier [0x00007FF75ACBF173+4015811]\n\tGetHandleVerifier [0x00007FF75A9947D6+695590]\n\t(No symbol) [0x00007FF75A870CE8]\n\t(No symbol) [0x00007FF75A86CF34]\n\t(No symbol) [0x00007FF75A86D062]\n\t(No symbol) [0x00007FF75A85D3A3]\n\tBaseThreadInitThunk [0x00007FFAB40C7344+20]\n\tRtlUserThreadStart [0x00007FFAB46A26B1+33]\n"
     ]
    }
   ],
   "source": [
    "#서울태그 선택\n",
    "driver.find_element(By.XPATH, '//*[@id=\"1\"]/button').click()\n",
    "time.sleep(2)"
   ]
  },
  {
   "cell_type": "code",
   "execution_count": 4,
   "metadata": {},
   "outputs": [
    {
     "data": {
      "text/plain": [
       "10"
      ]
     },
     "execution_count": 4,
     "metadata": {},
     "output_type": "execute_result"
    }
   ],
   "source": [
    "# 한페이지에 있는 축제갯수\n",
    "lis = soup.select('#contents > div.wrap_contView.clfix > div.box_leftType1 > ul > li')\n",
    "len(lis)"
   ]
  },
  {
   "cell_type": "code",
   "execution_count": 10,
   "metadata": {},
   "outputs": [],
   "source": [
    "# 이벤트 클릭\n",
    "driver.find_element(By.CSS_SELECTOR, '.tit').click()"
   ]
  },
  {
   "cell_type": "code",
   "execution_count": 14,
   "metadata": {},
   "outputs": [
    {
     "data": {
      "text/plain": [
       "<div class=\"tit\"> <a href=\"javascript:;\" onclick=\"goDetail('a36ea57f-a746-4cca-a6e9-b886a21acffb','A02','A0208','1');\">한국·프랑스 공동창작 공연 &lt;제자리&gt;</a> </div>"
      ]
     },
     "execution_count": 14,
     "metadata": {},
     "output_type": "execute_result"
    }
   ],
   "source": [
    "li = lis[0]\n",
    "li.select_one('.tit')"
   ]
  },
  {
   "cell_type": "code",
   "execution_count": 19,
   "metadata": {},
   "outputs": [],
   "source": [
    "from selenium import webdriver\n",
    "import time\n",
    "\n",
    "# WebDriver 초기화\n",
    "driver = webdriver.Chrome()\n",
    "\n",
    "# 웹 페이지 열기\n",
    "driver.get(\"https://korean.visitkorea.or.kr/list/travelinfo.do?service=show\")  # URL에는 해당 페이지의 주소를 입력하세요.\n",
    "\n",
    "# JavaScript 함수 호출\n",
    "script = \"\"\"goDetail('a36ea57f-a746-4cca-a6e9-b886a21acffb','A02','A0208','1');\"\"\"\n",
    "driver.execute_script(script)\n",
    "\n",
    "# 원하는 동작이 완료되도록 충분히 대기 (이 부분은 상황에 따라 조절이 필요할 수 있습니다)\n",
    "time.sleep(2)\n",
    "\n",
    "# 웹 드라이버 종료\n",
    "driver.quit()\n"
   ]
  },
  {
   "cell_type": "code",
   "execution_count": 13,
   "metadata": {},
   "outputs": [
    {
     "ename": "TypeError",
     "evalue": "'NoneType' object is not callable",
     "output_type": "error",
     "traceback": [
      "\u001b[1;31m---------------------------------------------------------------------------\u001b[0m",
      "\u001b[1;31mTypeError\u001b[0m                                 Traceback (most recent call last)",
      "\u001b[1;32md:\\WorkSpace\\Pro\\01..ipynb 셀 8\u001b[0m line \u001b[0;36m1\n\u001b[1;32m----> <a href='vscode-notebook-cell:/d%3A/WorkSpace/Pro/01..ipynb#X12sZmlsZQ%3D%3D?line=0'>1</a>\u001b[0m li\u001b[39m.\u001b[39mselect_one(\u001b[39m'\u001b[39m\u001b[39m.tit\u001b[39m\u001b[39m'\u001b[39m)\u001b[39m.\u001b[39mclick()\n",
      "\u001b[1;31mTypeError\u001b[0m: 'NoneType' object is not callable"
     ]
    }
   ],
   "source": [
    "li.select_one('.tit').click()"
   ]
  },
  {
   "cell_type": "code",
   "execution_count": 150,
   "metadata": {},
   "outputs": [
    {
     "ename": "AttributeError",
     "evalue": "'NoneType' object has no attribute 'click'",
     "output_type": "error",
     "traceback": [
      "\u001b[1;31m---------------------------------------------------------------------------\u001b[0m",
      "\u001b[1;31mAttributeError\u001b[0m                            Traceback (most recent call last)",
      "\u001b[1;32md:\\works\\조세훈\\01.이벤트크롤링.ipynb Cell 6\u001b[0m line \u001b[0;36m3\n\u001b[0;32m      <a href='vscode-notebook-cell:/d%3A/works/%EC%A1%B0%EC%84%B8%ED%9B%88/01.%EC%9D%B4%EB%B2%A4%ED%8A%B8%ED%81%AC%EB%A1%A4%EB%A7%81.ipynb#X10sZmlsZQ%3D%3D?line=0'>1</a>\u001b[0m li \u001b[39m=\u001b[39m lis[\u001b[39m3\u001b[39m]\n\u001b[0;32m      <a href='vscode-notebook-cell:/d%3A/works/%EC%A1%B0%EC%84%B8%ED%9B%88/01.%EC%9D%B4%EB%B2%A4%ED%8A%B8%ED%81%AC%EB%A1%A4%EB%A7%81.ipynb#X10sZmlsZQ%3D%3D?line=1'>2</a>\u001b[0m x \u001b[39m=\u001b[39m li\u001b[39m.\u001b[39mselect_one(\u001b[39m'\u001b[39m\u001b[39m#contents > div.wrap_contView.clfix > div.box_leftType1 > ul > li:nth-child(5) > div.area_txt > div\u001b[39m\u001b[39m'\u001b[39m)\n\u001b[1;32m----> <a href='vscode-notebook-cell:/d%3A/works/%EC%A1%B0%EC%84%B8%ED%9B%88/01.%EC%9D%B4%EB%B2%A4%ED%8A%B8%ED%81%AC%EB%A1%A4%EB%A7%81.ipynb#X10sZmlsZQ%3D%3D?line=2'>3</a>\u001b[0m x\u001b[39m.\u001b[39mclick()\n",
      "\u001b[1;31mAttributeError\u001b[0m: 'NoneType' object has no attribute 'click'"
     ]
    }
   ],
   "source": [
    "data = []\n",
    "for i in range(1, 16):\n",
    "    driver.find_element(By.XPATH, '//*[@id=\"2\"]')"
   ]
  },
  {
   "cell_type": "code",
   "execution_count": 21,
   "metadata": {},
   "outputs": [
    {
     "name": "stdout",
     "output_type": "stream",
     "text": [
      "한국·프랑스 공동창작 공연 <제자리>\n"
     ]
    }
   ],
   "source": [
    "from bs4 import BeautifulSoup\n",
    "\n",
    "html_code = '<a href=\"javascript:;\" onclick=\"goDetail(\\'a36ea57f-a746-4cca-a6e9-b886a21acffb\\',\\'A02\\',\\'A0208\\',\\'1\\');\">한국·프랑스 공동창작 공연 &lt;제자리&gt;</a>'\n",
    "\n",
    "soup = BeautifulSoup(html_code, 'html.parser')\n",
    "title = soup.a.get_text()\n",
    "\n",
    "print(title)\n"
   ]
  },
  {
   "cell_type": "code",
   "execution_count": null,
   "metadata": {},
   "outputs": [],
   "source": [
    "//*[@id=\"2\"]"
   ]
  }
 ],
 "metadata": {
  "kernelspec": {
   "display_name": "base",
   "language": "python",
   "name": "python3"
  },
  "language_info": {
   "codemirror_mode": {
    "name": "ipython",
    "version": 3
   },
   "file_extension": ".py",
   "mimetype": "text/x-python",
   "name": "python",
   "nbconvert_exporter": "python",
   "pygments_lexer": "ipython3",
   "version": "3.11.4"
  }
 },
 "nbformat": 4,
 "nbformat_minor": 2
}
