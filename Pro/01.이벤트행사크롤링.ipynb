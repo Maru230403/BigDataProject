{
 "cells": [
  {
   "cell_type": "code",
   "execution_count": 70,
   "metadata": {},
   "outputs": [],
   "source": [
    "import time\n",
    "import math\n",
    "import pandas as pd \n",
    "from bs4 import BeautifulSoup\n",
    "from selenium import webdriver\n",
    "from selenium.webdriver.common.by import By\n",
    "from selenium.webdriver.common.keys import Keys\n",
    "from urllib.parse import quote\n",
    "from tqdm import tqdm\n",
    "from selenium.webdriver.support.ui import WebDriverWait\n",
    "from selenium.webdriver.support import expected_conditions as EC"
   ]
  },
  {
   "cell_type": "code",
   "execution_count": 71,
   "metadata": {},
   "outputs": [],
   "source": [
    "# 한국관광공사 공연/행사 주소 입력\n",
    "url = 'https://korean.visitkorea.or.kr/list/travelinfo.do?service=show'\n",
    "driver = webdriver.Chrome()\n",
    "driver.get(url)\n",
    "soup = BeautifulSoup(driver.page_source, 'html.parser')\n",
    "time.sleep(2)"
   ]
  },
  {
   "cell_type": "code",
   "execution_count": 72,
   "metadata": {},
   "outputs": [],
   "source": [
    "#서울태그 선택\n",
    "driver.find_element(By.XPATH, '//*[@id=\"1\"]/button/span').click()\n",
    "time.sleep(2)"
   ]
  },
  {
   "cell_type": "code",
   "execution_count": 59,
   "metadata": {},
   "outputs": [
    {
     "data": {
      "text/plain": [
       "1"
      ]
     },
     "execution_count": 59,
     "metadata": {},
     "output_type": "execute_result"
    }
   ],
   "source": [
    "# 한페이지에 있는 축제갯수\n",
    "lis = soup.select('#contents > div.wrap_contView.clfix > div.box_leftType1 > ul > li')\n",
    "len(lis)"
   ]
  },
  {
   "cell_type": "code",
   "execution_count": 29,
   "metadata": {},
   "outputs": [],
   "source": [
    "# 이벤트 클릭\n",
    "driver.find_element(By.CSS_SELECTOR, '.tit').click()"
   ]
  },
  {
   "cell_type": "code",
   "execution_count": 30,
   "metadata": {},
   "outputs": [
    {
     "data": {
      "text/plain": [
       "<div class=\"tit\"> <a href=\"javascript:;\" onclick=\"goDetail('c92aefec-4867-419d-bf1f-2d9c1737a02a','A02','A0208','1');\">K-핸드메이드페어 2023</a> </div>"
      ]
     },
     "execution_count": 30,
     "metadata": {},
     "output_type": "execute_result"
    }
   ],
   "source": [
    "li = lis[0]\n",
    "li.select_one('.tit')"
   ]
  },
  {
   "cell_type": "code",
   "execution_count": 36,
   "metadata": {},
   "outputs": [
    {
     "data": {
      "text/plain": [
       "'K-핸드메이드페어 2023'"
      ]
     },
     "execution_count": 36,
     "metadata": {},
     "output_type": "execute_result"
    }
   ],
   "source": [
    "# 행사이름\n",
    "sub_soup = BeautifulSoup(driver.page_source, 'html.parser')\n",
    "title = sub_soup.select_one('#topTitle').get_text().strip()\n",
    "title"
   ]
  },
  {
   "cell_type": "code",
   "execution_count": 7,
   "metadata": {},
   "outputs": [
    {
     "data": {
      "text/plain": [
       "'2023. 11. 30. ~ 2023. 12. 3.'"
      ]
     },
     "execution_count": 7,
     "metadata": {},
     "output_type": "execute_result"
    }
   ],
   "source": [
    "date = sub_soup.select_one('#topAddr > span:nth-child(2)').get_text()\n",
    "date"
   ]
  },
  {
   "cell_type": "code",
   "execution_count": 8,
   "metadata": {},
   "outputs": [
    {
     "data": {
      "text/plain": [
       "'서울특별시 강남구 영동대로 513'"
      ]
     },
     "execution_count": 8,
     "metadata": {},
     "output_type": "execute_result"
    }
   ],
   "source": [
    "addr = sub_soup.select_one('#detailGo > div:nth-child(5) > div > div.inr_wrap > div > ul > li:nth-child(5) > span').get_text()\n",
    "addr"
   ]
  },
  {
   "cell_type": "code",
   "execution_count": 62,
   "metadata": {},
   "outputs": [
    {
     "ename": "AttributeError",
     "evalue": "'WebElement' object has no attribute 'select_one'",
     "output_type": "error",
     "traceback": [
      "\u001b[1;31m---------------------------------------------------------------------------\u001b[0m",
      "\u001b[1;31mAttributeError\u001b[0m                            Traceback (most recent call last)",
      "\u001b[1;32md:\\WorkSpace\\BigDataProject\\Pro\\01.이벤트행사크롤링.ipynb 셀 10\u001b[0m line \u001b[0;36m1\n\u001b[1;32m----> <a href='vscode-notebook-cell:/d%3A/WorkSpace/BigDataProject/Pro/01.%EC%9D%B4%EB%B2%A4%ED%8A%B8%ED%96%89%EC%82%AC%ED%81%AC%EB%A1%A4%EB%A7%81.ipynb#X23sZmlsZQ%3D%3D?line=0'>1</a>\u001b[0m li\u001b[39m.\u001b[39mselect_one(\u001b[39m'\u001b[39m\u001b[39m#\u001b[39m\u001b[39m\\3\u001b[39;00m\u001b[39m9_\u001b[39m\u001b[39m'\u001b[39m)\n",
      "\u001b[1;31mAttributeError\u001b[0m: 'WebElement' object has no attribute 'select_one'"
     ]
    }
   ],
   "source": [
    "li.select_one('#\\39_')"
   ]
  },
  {
   "cell_type": "code",
   "execution_count": 83,
   "metadata": {},
   "outputs": [
    {
     "name": "stdout",
     "output_type": "stream",
     "text": [
      "None\n"
     ]
    }
   ],
   "source": [
    "x = sub_soup.select_one('#contents > div.wrap_contView.clfix > div.box_leftType1 > div.page_box > id')\n",
    "print(x)"
   ]
  },
  {
   "cell_type": "code",
   "execution_count": 89,
   "metadata": {},
   "outputs": [
    {
     "name": "stdout",
     "output_type": "stream",
     "text": [
      "[{'행사명': '2023 신사리 상권 릴레이 이벤트', '기간': '2023. 8. 24. ~ 2023. 12. 30.', '주소': '서울특별시 관악구 신림동'}, {'행사명': '2023문화가 흐르는 예술마당', '기간': '2023. 4. 19. ~ 2023. 11. 29.', '주소': '서울특별시 용산구 양녕로 445'}, {'행사명': '제이닷 트리 팝업', '기간': '2023. 10. 15. ~ 2023. 12. 31.', '주소': '서울특별시 종로구 사직로2길 12 (행촌동)'}, {'행사명': '왕궁 수문장 교대의식', '기간': '2023. 1. 1. ~ 2023. 12. 31.', '주소': '서울특별시 중구 세종대로 99'}, {'행사명': '썬셋&썬라이즈워크', '기간': '2023. 12. 28. ~ 2024. 1. 4.', '주소': '서울특별시 용산구 남산공원길 105 (용산동2가)'}, {'행사명': '2023 초·중·고등학생 문화공연 관람 지원 [공연봄날]', '기간': '2023. 4. 1. ~ 2023. 12. 31.', '주소': ''}, {'행사명': '난타 (명동)', '기간': '2022. 12. 1. ~ 2024. 2. 29.', '주소': '서울특별시 중구 명동길 26'}, {'행사명': 'K-컬처 뮤지엄', '기간': '2022. 1. 14. ~ 2023. 12. 31.', '주소': '서울특별시 종로구 사직로 130 3호선 경복궁역'}, {'행사명': '남산봉수의식 등 전통문화 재현행사', '기간': '2023. 1. 1. ~ 2023. 12. 31.', '주소': '서울특별시 종로구 종로 54 보신각'}, {'행사명': '영재국악회 국악공연', '기간': '2022. 5. 1. ~ 2023. 12. 31.', '주소': '남산골한옥마을내 남산국악당-크라운해태홀'}]\n"
     ]
    }
   ],
   "source": [
    "data = []\n",
    "\n",
    "#for i in range(1, total_pages + 1):\n",
    "url = 'https://korean.visitkorea.or.kr/list/travelinfo.do?service=show'\n",
    "driver = webdriver.Chrome()\n",
    "driver.get(url)\n",
    "\n",
    "# '서울' 버튼 클릭\n",
    "driver.find_element(By.XPATH, '//*[@id=\"1\"]/button/span').click()\n",
    "\n",
    "# 대기 시간 추가 (예: 10초)\n",
    "time.sleep(5)\n",
    "\n",
    "# id가 i인 링크 클릭\n",
    "link_id = str(i)\n",
    "driver.find_element(By.ID, link_id).click()\n",
    "\n",
    "# 대기 시간 추가 (예: 5초)\n",
    "time.sleep(5)\n",
    "\n",
    "# lis 엘리먼트 찾기\n",
    "lis = driver.find_elements(By.CSS_SELECTOR, '#contents > div.wrap_contView.clfix > div.box_leftType1 > ul > li')\n",
    "\n",
    "for li in lis:\n",
    "    # 각 li에 대한 작업 수행\n",
    "    try:\n",
    "        # WebDriverWait을 사용하여 li가 클릭 가능할 때까지 대기\n",
    "        WebDriverWait(driver, 10).until(EC.element_to_be_clickable((By.CSS_SELECTOR, '.tit')))\n",
    "        \n",
    "        # 각 li를 클릭하여 세부 페이지로 이동\n",
    "        li.find_element(By.CSS_SELECTOR, '.tit').click()\n",
    "\n",
    "        # 대기 시간 추가 (예: 5초)\n",
    "        time.sleep(5)\n",
    "\n",
    "        # 세부 페이지에서 데이터 추출\n",
    "        sub_soup = BeautifulSoup(driver.page_source, 'html.parser')\n",
    "        title = sub_soup.select_one('#topTitle').get_text().strip()\n",
    "        date = sub_soup.select_one('#topAddr > span:nth-child(2)').get_text().strip()\n",
    "        addr = sub_soup.select_one('#detailGo > div:nth-child(5) > div > div.inr_wrap > div > ul > li:nth-child(5) > span').get_text().strip()\n",
    "\n",
    "        # 데이터 추가\n",
    "        data.append({'행사명': title, '기간': date, '주소': addr})\n",
    "\n",
    "        # 이전 페이지로 돌아가기\n",
    "        driver.back()\n",
    "\n",
    "    except Exception as e:\n",
    "        print(f\"Error processing li: {str(e)}\")\n",
    "\n",
    "driver.quit()\n",
    "print(data)"
   ]
  },
  {
   "cell_type": "code",
   "execution_count": null,
   "metadata": {},
   "outputs": [],
   "source": []
  }
 ],
 "metadata": {
  "kernelspec": {
   "display_name": "base",
   "language": "python",
   "name": "python3"
  },
  "language_info": {
   "codemirror_mode": {
    "name": "ipython",
    "version": 3
   },
   "file_extension": ".py",
   "mimetype": "text/x-python",
   "name": "python",
   "nbconvert_exporter": "python",
   "pygments_lexer": "ipython3",
   "version": "3.11.4"
  }
 },
 "nbformat": 4,
 "nbformat_minor": 2
}
