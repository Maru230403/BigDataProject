{
 "cells": [
  {
   "cell_type": "code",
   "execution_count": 56,
   "metadata": {},
   "outputs": [],
   "source": [
    "import time\n",
    "import math\n",
    "import pandas as pd \n",
    "from bs4 import BeautifulSoup\n",
    "from selenium import webdriver\n",
    "from selenium.webdriver.common.by import By\n",
    "from selenium.webdriver.common.keys import Keys\n",
    "from urllib.parse import quote\n",
    "from tqdm import tqdm\n",
    "from selenium.webdriver.support.ui import WebDriverWait\n",
    "from selenium.webdriver.support import expected_conditions as EC\n",
    "from selenium.common.exceptions import StaleElementReferenceException, TimeoutException"
   ]
  },
  {
   "cell_type": "code",
   "execution_count": 22,
   "metadata": {},
   "outputs": [],
   "source": [
    "# 한국관광공사 공연/행사 주소 입력\n",
    "url = 'https://korean.visitkorea.or.kr/list/travelinfo.do?service=show'\n",
    "driver = webdriver.Chrome()\n",
    "driver.get(url)\n",
    "soup = BeautifulSoup(driver.page_source, 'html.parser')\n",
    "time.sleep(2)"
   ]
  },
  {
   "cell_type": "code",
   "execution_count": 23,
   "metadata": {},
   "outputs": [],
   "source": [
    "#서울태그 선택\n",
    "driver.find_element(By.XPATH, '//*[@id=\"1\"]/button/span').click()\n",
    "time.sleep(2)"
   ]
  },
  {
   "cell_type": "code",
   "execution_count": 25,
   "metadata": {},
   "outputs": [
    {
     "data": {
      "text/plain": [
       "10"
      ]
     },
     "execution_count": 25,
     "metadata": {},
     "output_type": "execute_result"
    }
   ],
   "source": [
    "# 한페이지에 있는 축제갯수\n",
    "lis = soup.select('#contents > div.wrap_contView.clfix > div.box_leftType1 > ul > li')\n",
    "len(lis)"
   ]
  },
  {
   "cell_type": "code",
   "execution_count": 28,
   "metadata": {},
   "outputs": [],
   "source": [
    "# 행사 클릭\n",
    "driver.find_element(By.CSS_SELECTOR, '.tit').click()"
   ]
  },
  {
   "cell_type": "code",
   "execution_count": 26,
   "metadata": {},
   "outputs": [
    {
     "data": {
      "text/plain": [
       "<div class=\"tit\"> <a href=\"javascript:;\" onclick=\"goDetail('c92aefec-4867-419d-bf1f-2d9c1737a02a','A02','A0208','1');\">K-핸드메이드페어 2023</a> </div>"
      ]
     },
     "execution_count": 26,
     "metadata": {},
     "output_type": "execute_result"
    }
   ],
   "source": [
    "li = lis[0]\n",
    "li.select_one('.tit')"
   ]
  },
  {
   "cell_type": "code",
   "execution_count": 7,
   "metadata": {},
   "outputs": [
    {
     "data": {
      "text/plain": [
       "'K-핸드메이드페어 2023'"
      ]
     },
     "execution_count": 7,
     "metadata": {},
     "output_type": "execute_result"
    }
   ],
   "source": [
    "# 행사이름\n",
    "sub_soup = BeautifulSoup(driver.page_source, 'html.parser')\n",
    "title = sub_soup.select_one('#topTitle').get_text().strip()\n",
    "title"
   ]
  },
  {
   "cell_type": "code",
   "execution_count": 25,
   "metadata": {},
   "outputs": [
    {
     "ename": "AttributeError",
     "evalue": "'NoneType' object has no attribute 'get_text'",
     "output_type": "error",
     "traceback": [
      "\u001b[1;31m---------------------------------------------------------------------------\u001b[0m",
      "\u001b[1;31mAttributeError\u001b[0m                            Traceback (most recent call last)",
      "\u001b[1;32md:\\WorkSpace\\BigDataProject\\Pro\\01.이벤트행사크롤링.ipynb 셀 8\u001b[0m line \u001b[0;36m1\n\u001b[1;32m----> <a href='vscode-notebook-cell:/d%3A/WorkSpace/BigDataProject/Pro/01.%EC%9D%B4%EB%B2%A4%ED%8A%B8%ED%96%89%EC%82%AC%ED%81%AC%EB%A1%A4%EB%A7%81.ipynb#X33sZmlsZQ%3D%3D?line=0'>1</a>\u001b[0m title \u001b[39m=\u001b[39m sub_soup\u001b[39m.\u001b[39mselect_one(\u001b[39m'\u001b[39m\u001b[39m#topTitle\u001b[39m\u001b[39m'\u001b[39m)\u001b[39m.\u001b[39mget_text()\u001b[39m.\u001b[39mstrip()\n\u001b[0;32m      <a href='vscode-notebook-cell:/d%3A/WorkSpace/BigDataProject/Pro/01.%EC%9D%B4%EB%B2%A4%ED%8A%B8%ED%96%89%EC%82%AC%ED%81%AC%EB%A1%A4%EB%A7%81.ipynb#X33sZmlsZQ%3D%3D?line=1'>2</a>\u001b[0m title\n",
      "\u001b[1;31mAttributeError\u001b[0m: 'NoneType' object has no attribute 'get_text'"
     ]
    }
   ],
   "source": [
    "title = sub_soup.select_one('#topTitle').get_text().strip()\n",
    "title"
   ]
  },
  {
   "cell_type": "code",
   "execution_count": 8,
   "metadata": {},
   "outputs": [
    {
     "data": {
      "text/plain": [
       "'2023. 11. 30. ~ 2023. 12. 3.'"
      ]
     },
     "execution_count": 8,
     "metadata": {},
     "output_type": "execute_result"
    }
   ],
   "source": [
    "# 행사 날짜\n",
    "date = sub_soup.select_one('#topAddr > span:nth-child(2)').get_text()\n",
    "date"
   ]
  },
  {
   "cell_type": "code",
   "execution_count": 9,
   "metadata": {},
   "outputs": [
    {
     "data": {
      "text/plain": [
       "'서울특별시 강남구 영동대로 513'"
      ]
     },
     "execution_count": 9,
     "metadata": {},
     "output_type": "execute_result"
    }
   ],
   "source": [
    "# 행사 주소\n",
    "addr = sub_soup.select_one('#detailGo > div:nth-child(5) > div > div.inr_wrap > div > ul > li:nth-child(5) > span').get_text()\n",
    "addr"
   ]
  },
  {
   "cell_type": "code",
   "execution_count": 9,
   "metadata": {},
   "outputs": [],
   "source": [
    "elements = WebDriverWait(driver, 10).until(\n",
    "        EC.presence_of_all_elements_located((By.CSS_SELECTOR, 'div.page_box > a'))\n",
    "    )\n",
    "elements[2].click()"
   ]
  },
  {
   "cell_type": "code",
   "execution_count": 21,
   "metadata": {},
   "outputs": [
    {
     "ename": "AttributeError",
     "evalue": "'NoneType' object has no attribute 'get_text'",
     "output_type": "error",
     "traceback": [
      "\u001b[1;31m---------------------------------------------------------------------------\u001b[0m",
      "\u001b[1;31mAttributeError\u001b[0m                            Traceback (most recent call last)",
      "\u001b[1;32md:\\WorkSpace\\BigDataProject\\Pro\\01.이벤트행사크롤링.ipynb 셀 10\u001b[0m line \u001b[0;36m2\n\u001b[0;32m     <a href='vscode-notebook-cell:/d%3A/WorkSpace/BigDataProject/Pro/01.%EC%9D%B4%EB%B2%A4%ED%8A%B8%ED%96%89%EC%82%AC%ED%81%AC%EB%A1%A4%EB%A7%81.ipynb#X31sZmlsZQ%3D%3D?line=22'>23</a>\u001b[0m sub_soup \u001b[39m=\u001b[39m BeautifulSoup(driver\u001b[39m.\u001b[39mpage_source, \u001b[39m'\u001b[39m\u001b[39mhtml.parser\u001b[39m\u001b[39m'\u001b[39m)\n\u001b[0;32m     <a href='vscode-notebook-cell:/d%3A/WorkSpace/BigDataProject/Pro/01.%EC%9D%B4%EB%B2%A4%ED%8A%B8%ED%96%89%EC%82%AC%ED%81%AC%EB%A1%A4%EB%A7%81.ipynb#X31sZmlsZQ%3D%3D?line=23'>24</a>\u001b[0m title \u001b[39m=\u001b[39m sub_soup\u001b[39m.\u001b[39mselect_one(\u001b[39m'\u001b[39m\u001b[39m#topTitle\u001b[39m\u001b[39m'\u001b[39m)\u001b[39m.\u001b[39mget_text()\u001b[39m.\u001b[39mstrip()\n\u001b[1;32m---> <a href='vscode-notebook-cell:/d%3A/WorkSpace/BigDataProject/Pro/01.%EC%9D%B4%EB%B2%A4%ED%8A%B8%ED%96%89%EC%82%AC%ED%81%AC%EB%A1%A4%EB%A7%81.ipynb#X31sZmlsZQ%3D%3D?line=24'>25</a>\u001b[0m date \u001b[39m=\u001b[39m sub_soup\u001b[39m.\u001b[39mselect_one(\u001b[39m'\u001b[39m\u001b[39m#topAddr > span:nth-child(2)\u001b[39m\u001b[39m'\u001b[39m)\u001b[39m.\u001b[39mget_text()\n\u001b[0;32m     <a href='vscode-notebook-cell:/d%3A/WorkSpace/BigDataProject/Pro/01.%EC%9D%B4%EB%B2%A4%ED%8A%B8%ED%96%89%EC%82%AC%ED%81%AC%EB%A1%A4%EB%A7%81.ipynb#X31sZmlsZQ%3D%3D?line=25'>26</a>\u001b[0m addr \u001b[39m=\u001b[39m sub_soup\u001b[39m.\u001b[39mselect_one(\u001b[39m'\u001b[39m\u001b[39m#detailGo > div:nth-child(5) > div > div.inr_wrap > div > ul > li:nth-child(5) > span\u001b[39m\u001b[39m'\u001b[39m)\u001b[39m.\u001b[39mget_text()\n\u001b[0;32m     <a href='vscode-notebook-cell:/d%3A/WorkSpace/BigDataProject/Pro/01.%EC%9D%B4%EB%B2%A4%ED%8A%B8%ED%96%89%EC%82%AC%ED%81%AC%EB%A1%A4%EB%A7%81.ipynb#X31sZmlsZQ%3D%3D?line=26'>27</a>\u001b[0m title_list\u001b[39m.\u001b[39mappend(title)\n",
      "\u001b[1;31mAttributeError\u001b[0m: 'NoneType' object has no attribute 'get_text'"
     ]
    }
   ],
   "source": [
    "'''data = []\n",
    "url = 'https://korean.visitkorea.or.kr/list/travelinfo.do?service=show'\n",
    "driver = webdriver.Chrome()\n",
    "driver.get(url)\n",
    "soup = BeautifulSoup(driver.page_source, 'html.parser')\n",
    "time.sleep(2)\n",
    "driver.find_element(By.XPATH, '//*[@id=\"1\"]/button/span').click()\n",
    "time.sleep(2)\n",
    "lis = soup.select('#contents > div.wrap_contView.clfix > div.box_leftType1 > ul > li')\n",
    "li = lis[0]\n",
    "# 첫 번째 반복문\n",
    "for i in range(0, 6):\n",
    "    element = WebDriverWait(driver, 10).until(\n",
    "        EC.element_to_be_clickable((By.CSS_SELECTOR, 'div.page_box > a:nth-child(' + str(i+1) + ')'))\n",
    "    )\n",
    "    element.click()\n",
    "    time.sleep(3)\n",
    "    for li in lis:\n",
    "        title_list = []\n",
    "        date_list = []\n",
    "        addr_list =[]\n",
    "        driver.find_element(By.CSS_SELECTOR, '.tit').click()\n",
    "        sub_soup = BeautifulSoup(driver.page_source, 'html.parser')\n",
    "        title = sub_soup.select_one('#topTitle').get_text().strip()\n",
    "        date = sub_soup.select_one('#topAddr > span:nth-child(2)').get_text()\n",
    "        addr = sub_soup.select_one('#detailGo > div:nth-child(5) > div > div.inr_wrap > div > ul > li:nth-child(5) > span').get_text()\n",
    "        title_list.append(title)\n",
    "        date_list.append(date)\n",
    "        addr_list.append(addr)\n",
    "    data.append({'제목': title_list, '기간':date_list, '주소':addr_list})\n",
    "    driver.back()\n",
    "# 두 번째 반복문 (4부터 8까지 클릭)\n",
    "j = 4\n",
    "while j <= 8:\n",
    "    element_inner = WebDriverWait(driver, 10).until(\n",
    "        EC.element_to_be_clickable((By.CSS_SELECTOR, 'div.page_box > a:nth-child(' + str(j) + ')'))\n",
    "    )\n",
    "    element_inner.click()\n",
    "    time.sleep(5)\n",
    "    j += 1\n",
    "    for li in lis:\n",
    "        title_list = []\n",
    "        date_list = []\n",
    "        addr_list =[]\n",
    "        driver.find_element(By.CSS_SELECTOR, '.tit').click()\n",
    "        sub_soup = BeautifulSoup(driver.page_source, 'html.parser')\n",
    "        title = sub_soup.select_one('#topTitle').get_text().strip()\n",
    "        date = sub_soup.select_one('#topAddr > span:nth-child(2)').get_text()\n",
    "        addr = sub_soup.select_one('#detailGo > div:nth-child(5) > div > div.inr_wrap > div > ul > li:nth-child(5) > span').get_text()\n",
    "        title_list.append(title)\n",
    "        date_list.append(date)\n",
    "        addr_list.append(addr)\n",
    "    data.append({'제목': title_list, '기간':date_list, '주소':addr_list})\n",
    "    driver.back()\n",
    "# 세 번쨰 반복문\n",
    "s = 4\n",
    "while s <= 7:\n",
    "    element_inner = WebDriverWait(driver, 10).until(\n",
    "        EC.element_to_be_clickable((By.CSS_SELECTOR, 'div.page_box > a:nth-child(' + str(s) + ')'))\n",
    "    )\n",
    "    element_inner.click()\n",
    "    time.sleep(5)\n",
    "    s += 1\n",
    "    for li in lis:\n",
    "        title_list = []\n",
    "        date_list = []\n",
    "        addr_list =[]\n",
    "        driver.find_element(By.CSS_SELECTOR, '.tit').click()\n",
    "        sub_soup = BeautifulSoup(driver.page_source, 'html.parser')\n",
    "        title = sub_soup.select_one('#topTitle').get_text().strip()\n",
    "        date = sub_soup.select_one('#topAddr > span:nth-child(2)').get_text()\n",
    "        addr = sub_soup.select_one('#detailGo > div:nth-child(5) > div > div.inr_wrap > div > ul > li:nth-child(5) > span').get_text()\n",
    "        title_list.append(title)\n",
    "        date_list.append(date)\n",
    "        addr_list.append(addr)\n",
    "    data.append({'제목': title_list, '기간':date_list, '주소':addr_list})\n",
    "    driver.back()\n",
    "driver.close()'''"
   ]
  },
  {
   "cell_type": "code",
   "execution_count": 9,
   "metadata": {},
   "outputs": [
    {
     "ename": "AttributeError",
     "evalue": "'NoneType' object has no attribute 'get_text'",
     "output_type": "error",
     "traceback": [
      "\u001b[1;31m---------------------------------------------------------------------------\u001b[0m",
      "\u001b[1;31mAttributeError\u001b[0m                            Traceback (most recent call last)",
      "\u001b[1;32md:\\WorkSpace\\BigDataProject\\Pro\\01.이벤트행사크롤링.ipynb 셀 13\u001b[0m line \u001b[0;36m3\n\u001b[0;32m     <a href='vscode-notebook-cell:/d%3A/WorkSpace/BigDataProject/Pro/01.%EC%9D%B4%EB%B2%A4%ED%8A%B8%ED%96%89%EC%82%AC%ED%81%AC%EB%A1%A4%EB%A7%81.ipynb#X50sZmlsZQ%3D%3D?line=29'>30</a>\u001b[0m sub_soup \u001b[39m=\u001b[39m BeautifulSoup(driver\u001b[39m.\u001b[39mpage_source, \u001b[39m'\u001b[39m\u001b[39mhtml.parser\u001b[39m\u001b[39m'\u001b[39m)\n\u001b[0;32m     <a href='vscode-notebook-cell:/d%3A/WorkSpace/BigDataProject/Pro/01.%EC%9D%B4%EB%B2%A4%ED%8A%B8%ED%96%89%EC%82%AC%ED%81%AC%EB%A1%A4%EB%A7%81.ipynb#X50sZmlsZQ%3D%3D?line=30'>31</a>\u001b[0m title \u001b[39m=\u001b[39m sub_soup\u001b[39m.\u001b[39mselect_one(\u001b[39m'\u001b[39m\u001b[39m#topTitle\u001b[39m\u001b[39m'\u001b[39m)\u001b[39m.\u001b[39mget_text()\u001b[39m.\u001b[39mstrip()\n\u001b[1;32m---> <a href='vscode-notebook-cell:/d%3A/WorkSpace/BigDataProject/Pro/01.%EC%9D%B4%EB%B2%A4%ED%8A%B8%ED%96%89%EC%82%AC%ED%81%AC%EB%A1%A4%EB%A7%81.ipynb#X50sZmlsZQ%3D%3D?line=31'>32</a>\u001b[0m date \u001b[39m=\u001b[39m sub_soup\u001b[39m.\u001b[39mselect_one(\u001b[39m'\u001b[39m\u001b[39m#topAddr > span:nth-child(2)\u001b[39m\u001b[39m'\u001b[39m)\u001b[39m.\u001b[39mget_text()\u001b[39m.\u001b[39mstrip()\n\u001b[0;32m     <a href='vscode-notebook-cell:/d%3A/WorkSpace/BigDataProject/Pro/01.%EC%9D%B4%EB%B2%A4%ED%8A%B8%ED%96%89%EC%82%AC%ED%81%AC%EB%A1%A4%EB%A7%81.ipynb#X50sZmlsZQ%3D%3D?line=32'>33</a>\u001b[0m \u001b[39m# 정규표현식을 사용하여 숫자만 추출\u001b[39;00m\n\u001b[0;32m     <a href='vscode-notebook-cell:/d%3A/WorkSpace/BigDataProject/Pro/01.%EC%9D%B4%EB%B2%A4%ED%8A%B8%ED%96%89%EC%82%AC%ED%81%AC%EB%A1%A4%EB%A7%81.ipynb#X50sZmlsZQ%3D%3D?line=33'>34</a>\u001b[0m date_numbers \u001b[39m=\u001b[39m re\u001b[39m.\u001b[39msub(\u001b[39mr\u001b[39m\u001b[39m'\u001b[39m\u001b[39m\\\u001b[39m\u001b[39mD\u001b[39m\u001b[39m'\u001b[39m, \u001b[39m'\u001b[39m\u001b[39m'\u001b[39m, date)\n",
      "\u001b[1;31mAttributeError\u001b[0m: 'NoneType' object has no attribute 'get_text'"
     ]
    }
   ],
   "source": [
    "from selenium import webdriver\n",
    "from selenium.webdriver.common.by import By\n",
    "from selenium.webdriver.support.ui import WebDriverWait\n",
    "from selenium.webdriver.support import expected_conditions as EC\n",
    "from bs4 import BeautifulSoup\n",
    "import time\n",
    "import re\n",
    "\n",
    "data = []\n",
    "url = 'https://korean.visitkorea.or.kr/list/travelinfo.do?service=show'\n",
    "driver = webdriver.Chrome()\n",
    "driver.get(url)\n",
    "\n",
    "# 서울 태그 클릭\n",
    "driver.find_element(By.XPATH, '//*[@id=\"1\"]/button/span').click()\n",
    "time.sleep(2)\n",
    "\n",
    "# 첫 번째 루트 (1~6페이지)\n",
    "for i in range(0, 6):\n",
    "    # 페이지 클릭\n",
    "    driver.find_elements(By.CSS_SELECTOR, '.page_box > a')[i].click()\n",
    "    time.sleep(3)\n",
    "\n",
    "    # 각 목록 항목 찾기 및 클릭\n",
    "    lis = driver.find_elements(By.CSS_SELECTOR, '#contents > div.wrap_contView.clfix > div.box_leftType1 > ul > li')\n",
    "    for li in lis:\n",
    "              \n",
    "        sub_soup = BeautifulSoup(driver.page_source, 'html.parser')\n",
    "        driver.find_element(By.CSS_SELECTOR, '.tit').click()\n",
    "        sub_soup = BeautifulSoup(driver.page_source, 'html.parser')\n",
    "        title = sub_soup.select_one('#topTitle').get_text().strip()\n",
    "        date = sub_soup.select_one('#topAddr > span:nth-child(2)').get_text().strip()\n",
    "        # 정규표현식을 사용하여 숫자만 추출\n",
    "        date_numbers = re.sub(r'\\D', '', date)\n",
    "        addr = sub_soup.select_one('#detailGo > div:nth-child(5) > div > div.inr_wrap > div > ul > li:nth-child(5) > span').get_text().strip()\n",
    "\n",
    "        data.append({'제목': title, '기간': date_numbers, '주소': addr})\n",
    "        driver.back()\n",
    "\n",
    "# 두 번째 루트 (7~11페이지)\n",
    "for i in range(3, 8):\n",
    "    # 페이지 클릭\n",
    "    element = WebDriverWait(driver, 10).until(\n",
    "        EC.element_to_be_clickable((By.CSS_SELECTOR, f'div.page_box > a:nth-child({i})'))\n",
    "    )\n",
    "    element.click()\n",
    "    time.sleep(3)\n",
    "\n",
    "    # 각 목록 항목 찾기 및 클릭\n",
    "    lis = driver.find_elements(By.CSS_SELECTOR, '#contents > div.wrap_contView.clfix > div.box_leftType1 > ul > li')\n",
    "    for li in lis:\n",
    "        title_list = []\n",
    "        date_list = []\n",
    "        addr_list = []\n",
    "\n",
    "        driver.find_element(By.CSS_SELECTOR, '.tit').click()\n",
    "        sub_soup = BeautifulSoup(driver.page_source, 'html.parser')\n",
    "        title = sub_soup.select_one('#topTitle').get_text().strip()\n",
    "        date = sub_soup.select_one('#topAddr > span:nth-child(2)').get_text()\n",
    "        addr = sub_soup.select_one('#detailGo > div:nth-child(5) > div > div.inr_wrap > div > ul > li:nth-child(5) > span').get_text()\n",
    "\n",
    "        title_list.append(title)\n",
    "        date_list.append(date)\n",
    "        addr_list.append(addr)\n",
    "\n",
    "        data.append({'제목': title_list, '기간': date_list, '주소': addr_list})\n",
    "        driver.back()\n",
    "\n",
    "# 세 번째 루트 (12~15페이지)\n",
    "for i in range(3, 7):\n",
    "    # 페이지 클릭\n",
    "    element = WebDriverWait(driver, 10).until(\n",
    "        EC.element_to_be_clickable((By.CSS_SELECTOR, f'div.page_box > a:nth-child({i})'))\n",
    "    )\n",
    "    element.click()\n",
    "    time.sleep(3)\n",
    "\n",
    "    # 각 목록 항목 찾기 및 클릭\n",
    "    lis = driver.find_elements(By.CSS_SELECTOR, '#contents > div.wrap_contView.clfix > div.box_leftType1 > ul > li')\n",
    "    for li in lis:\n",
    "        title_list = []\n",
    "        date_list = []\n",
    "        addr_list = []\n",
    "\n",
    "        li.find_element(By.CSS_SELECTOR, '.tit').click()\n",
    "        sub_soup = BeautifulSoup(driver.page_source, 'html.parser')\n",
    "        title = sub_soup.select_one('#topTitle').get_text().strip()\n",
    "        date = sub_soup.select_one('#topAddr > span:nth-child(2)').get_text()\n",
    "        addr = sub_soup.select_one('#detailGo > div:nth-child(5) > div > div.inr_wrap > div > ul > li:nth-child(5) > span').get_text()\n",
    "\n",
    "        title_list.append(title)\n",
    "        date_list.append(date)\n",
    "        addr_list.append(addr)\n",
    "\n",
    "        data.append({'제목': title_list, '기간': date_list, '주소': addr_list})\n",
    "        driver.back()\n",
    "\n",
    "driver.close()\n"
   ]
  },
  {
   "cell_type": "code",
   "execution_count": null,
   "metadata": {},
   "outputs": [],
   "source": []
  }
 ],
 "metadata": {
  "kernelspec": {
   "display_name": "base",
   "language": "python",
   "name": "python3"
  },
  "language_info": {
   "codemirror_mode": {
    "name": "ipython",
    "version": 3
   },
   "file_extension": ".py",
   "mimetype": "text/x-python",
   "name": "python",
   "nbconvert_exporter": "python",
   "pygments_lexer": "ipython3",
   "version": "3.11.4"
  }
 },
 "nbformat": 4,
 "nbformat_minor": 2
}
