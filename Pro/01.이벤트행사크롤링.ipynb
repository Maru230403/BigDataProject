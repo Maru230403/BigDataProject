{
 "cells": [
  {
   "cell_type": "code",
   "execution_count": 53,
   "metadata": {},
   "outputs": [],
   "source": [
    "import time\n",
    "import math\n",
    "import pandas as pd \n",
    "from bs4 import BeautifulSoup\n",
    "from selenium import webdriver\n",
    "from selenium.webdriver.common.by import By\n",
    "from selenium.webdriver.common.keys import Keys\n",
    "from urllib.parse import quote\n",
    "from tqdm import tqdm\n",
    "from selenium.webdriver.support.ui import WebDriverWait\n",
    "from selenium.webdriver.support import expected_conditions as EC"
   ]
  },
  {
   "cell_type": "code",
   "execution_count": 55,
   "metadata": {},
   "outputs": [],
   "source": [
    "# 한국관광공사 공연/행사 주소 입력\n",
    "url = 'https://korean.visitkorea.or.kr/list/travelinfo.do?service=show'\n",
    "driver = webdriver.Chrome()\n",
    "driver.get(url)\n",
    "soup = BeautifulSoup(driver.page_source, 'html.parser')\n",
    "time.sleep(2)"
   ]
  },
  {
   "cell_type": "code",
   "execution_count": 56,
   "metadata": {},
   "outputs": [],
   "source": [
    "#서울태그 선택\n",
    "driver.find_element(By.XPATH, '//*[@id=\"1\"]/button/span').click()\n",
    "time.sleep(2)"
   ]
  },
  {
   "cell_type": "code",
   "execution_count": null,
   "metadata": {},
   "outputs": [
    {
     "data": {
      "text/plain": [
       "10"
      ]
     },
     "execution_count": 44,
     "metadata": {},
     "output_type": "execute_result"
    }
   ],
   "source": [
    "# 한페이지에 있는 축제갯수\n",
    "lis = soup.select('#contents > div.wrap_contView.clfix > div.box_leftType1 > ul > li')\n",
    "len(lis)"
   ]
  },
  {
   "cell_type": "code",
   "execution_count": 29,
   "metadata": {},
   "outputs": [],
   "source": [
    "# 이벤트 클릭\n",
    "driver.find_element(By.CSS_SELECTOR, '.tit').click()"
   ]
  },
  {
   "cell_type": "code",
   "execution_count": 30,
   "metadata": {},
   "outputs": [
    {
     "data": {
      "text/plain": [
       "<div class=\"tit\"> <a href=\"javascript:;\" onclick=\"goDetail('c92aefec-4867-419d-bf1f-2d9c1737a02a','A02','A0208','1');\">K-핸드메이드페어 2023</a> </div>"
      ]
     },
     "execution_count": 30,
     "metadata": {},
     "output_type": "execute_result"
    }
   ],
   "source": [
    "li = lis[0]\n",
    "li.select_one('.tit')"
   ]
  },
  {
   "cell_type": "code",
   "execution_count": 36,
   "metadata": {},
   "outputs": [
    {
     "data": {
      "text/plain": [
       "'K-핸드메이드페어 2023'"
      ]
     },
     "execution_count": 36,
     "metadata": {},
     "output_type": "execute_result"
    }
   ],
   "source": [
    "# 행사이름\n",
    "sub_soup = BeautifulSoup(driver.page_source, 'html.parser')\n",
    "title = sub_soup.select_one('#topTitle').get_text().strip()\n",
    "title"
   ]
  },
  {
   "cell_type": "code",
   "execution_count": 7,
   "metadata": {},
   "outputs": [
    {
     "data": {
      "text/plain": [
       "'2023. 11. 30. ~ 2023. 12. 3.'"
      ]
     },
     "execution_count": 7,
     "metadata": {},
     "output_type": "execute_result"
    }
   ],
   "source": [
    "date = sub_soup.select_one('#topAddr > span:nth-child(2)').get_text()\n",
    "date"
   ]
  },
  {
   "cell_type": "code",
   "execution_count": 8,
   "metadata": {},
   "outputs": [
    {
     "data": {
      "text/plain": [
       "'서울특별시 강남구 영동대로 513'"
      ]
     },
     "execution_count": 8,
     "metadata": {},
     "output_type": "execute_result"
    }
   ],
   "source": [
    "addr = sub_soup.select_one('#detailGo > div:nth-child(5) > div > div.inr_wrap > div > ul > li:nth-child(5) > span').get_text()\n",
    "addr"
   ]
  },
  {
   "cell_type": "code",
   "execution_count": 10,
   "metadata": {},
   "outputs": [
    {
     "data": {
      "text/plain": [
       "15"
      ]
     },
     "execution_count": 10,
     "metadata": {},
     "output_type": "execute_result"
    }
   ],
   "source": [
    "total_pages = math.ceil(147/10)\n",
    "total_pages"
   ]
  },
  {
   "cell_type": "code",
   "execution_count": 58,
   "metadata": {},
   "outputs": [
    {
     "name": "stdout",
     "output_type": "stream",
     "text": [
      "Error processing li: 'NoneType' object is not callable\n",
      "Error processing li: 'NoneType' object is not callable\n",
      "Error processing li: 'NoneType' object is not callable\n",
      "Error processing li: 'NoneType' object is not callable\n",
      "Error processing li: 'NoneType' object is not callable\n",
      "Error processing li: 'NoneType' object is not callable\n",
      "Error processing li: 'NoneType' object is not callable\n",
      "Error processing li: 'NoneType' object is not callable\n",
      "Error processing li: 'NoneType' object is not callable\n",
      "Error processing li: 'NoneType' object is not callable\n",
      "Error processing li: 'NoneType' object is not callable\n",
      "Error processing li: 'NoneType' object is not callable\n",
      "Error processing li: 'NoneType' object is not callable\n",
      "Error processing li: 'NoneType' object is not callable\n",
      "Error processing li: 'NoneType' object is not callable\n",
      "Error processing li: 'NoneType' object is not callable\n",
      "Error processing li: 'NoneType' object is not callable\n",
      "Error processing li: 'NoneType' object is not callable\n",
      "Error processing li: 'NoneType' object is not callable\n",
      "Error processing li: 'NoneType' object is not callable\n",
      "Error processing li: 'NoneType' object is not callable\n",
      "Error processing li: 'NoneType' object is not callable\n",
      "Error processing li: 'NoneType' object is not callable\n",
      "Error processing li: 'NoneType' object is not callable\n",
      "Error processing li: 'NoneType' object is not callable\n",
      "Error processing li: 'NoneType' object is not callable\n",
      "Error processing li: 'NoneType' object is not callable\n",
      "Error processing li: 'NoneType' object is not callable\n",
      "Error processing li: 'NoneType' object is not callable\n",
      "Error processing li: 'NoneType' object is not callable\n"
     ]
    },
    {
     "ename": "ElementNotInteractableException",
     "evalue": "Message: element not interactable\n  (Session info: chrome=119.0.6045.160)\nStacktrace:\n\tGetHandleVerifier [0x00007FF68DCA82B2+55298]\n\t(No symbol) [0x00007FF68DC15E02]\n\t(No symbol) [0x00007FF68DAD045D]\n\t(No symbol) [0x00007FF68DB12B4C]\n\t(No symbol) [0x00007FF68DB087BF]\n\t(No symbol) [0x00007FF68DB320AA]\n\t(No symbol) [0x00007FF68DB080CF]\n\t(No symbol) [0x00007FF68DB322C0]\n\t(No symbol) [0x00007FF68DB4AAA4]\n\t(No symbol) [0x00007FF68DB31E83]\n\t(No symbol) [0x00007FF68DB0670A]\n\t(No symbol) [0x00007FF68DB07964]\n\tGetHandleVerifier [0x00007FF68E020AAB+3694587]\n\tGetHandleVerifier [0x00007FF68E07728E+4048862]\n\tGetHandleVerifier [0x00007FF68E06F173+4015811]\n\tGetHandleVerifier [0x00007FF68DD447D6+695590]\n\t(No symbol) [0x00007FF68DC20CE8]\n\t(No symbol) [0x00007FF68DC1CF34]\n\t(No symbol) [0x00007FF68DC1D062]\n\t(No symbol) [0x00007FF68DC0D3A3]\n\tBaseThreadInitThunk [0x00007FFB43837344+20]\n\tRtlUserThreadStart [0x00007FFB43D426B1+33]\n",
     "output_type": "error",
     "traceback": [
      "\u001b[1;31m---------------------------------------------------------------------------\u001b[0m",
      "\u001b[1;31mElementNotInteractableException\u001b[0m           Traceback (most recent call last)",
      "\u001b[1;32md:\\WorkSpace\\BigDataProject\\Pro\\01.이벤트행사크롤링.ipynb 셀 11\u001b[0m line \u001b[0;36m1\n\u001b[0;32m      <a href='vscode-notebook-cell:/d%3A/WorkSpace/BigDataProject/Pro/01.%EC%9D%B4%EB%B2%A4%ED%8A%B8%ED%96%89%EC%82%AC%ED%81%AC%EB%A1%A4%EB%A7%81.ipynb#X16sZmlsZQ%3D%3D?line=6'>7</a>\u001b[0m driver\u001b[39m.\u001b[39mget(url)\n\u001b[0;32m      <a href='vscode-notebook-cell:/d%3A/WorkSpace/BigDataProject/Pro/01.%EC%9D%B4%EB%B2%A4%ED%8A%B8%ED%96%89%EC%82%AC%ED%81%AC%EB%A1%A4%EB%A7%81.ipynb#X16sZmlsZQ%3D%3D?line=8'>9</a>\u001b[0m \u001b[39m# '서울' 버튼 클릭\u001b[39;00m\n\u001b[1;32m---> <a href='vscode-notebook-cell:/d%3A/WorkSpace/BigDataProject/Pro/01.%EC%9D%B4%EB%B2%A4%ED%8A%B8%ED%96%89%EC%82%AC%ED%81%AC%EB%A1%A4%EB%A7%81.ipynb#X16sZmlsZQ%3D%3D?line=9'>10</a>\u001b[0m driver\u001b[39m.\u001b[39mfind_element(By\u001b[39m.\u001b[39mXPATH, \u001b[39m'\u001b[39m\u001b[39m//*[@id=\u001b[39m\u001b[39m\"\u001b[39m\u001b[39m1\u001b[39m\u001b[39m\"\u001b[39m\u001b[39m]/button/span\u001b[39m\u001b[39m'\u001b[39m)\u001b[39m.\u001b[39mclick()\n\u001b[0;32m     <a href='vscode-notebook-cell:/d%3A/WorkSpace/BigDataProject/Pro/01.%EC%9D%B4%EB%B2%A4%ED%8A%B8%ED%96%89%EC%82%AC%ED%81%AC%EB%A1%A4%EB%A7%81.ipynb#X16sZmlsZQ%3D%3D?line=11'>12</a>\u001b[0m \u001b[39m# 대기 시간 추가 (예: 10초)\u001b[39;00m\n\u001b[0;32m     <a href='vscode-notebook-cell:/d%3A/WorkSpace/BigDataProject/Pro/01.%EC%9D%B4%EB%B2%A4%ED%8A%B8%ED%96%89%EC%82%AC%ED%81%AC%EB%A1%A4%EB%A7%81.ipynb#X16sZmlsZQ%3D%3D?line=12'>13</a>\u001b[0m time\u001b[39m.\u001b[39msleep(\u001b[39m10\u001b[39m)\n",
      "File \u001b[1;32mc:\\Users\\human\\anaconda3\\Lib\\site-packages\\selenium\\webdriver\\remote\\webelement.py:93\u001b[0m, in \u001b[0;36mWebElement.click\u001b[1;34m(self)\u001b[0m\n\u001b[0;32m     91\u001b[0m \u001b[39mdef\u001b[39;00m \u001b[39mclick\u001b[39m(\u001b[39mself\u001b[39m) \u001b[39m-\u001b[39m\u001b[39m>\u001b[39m \u001b[39mNone\u001b[39;00m:\n\u001b[0;32m     92\u001b[0m \u001b[39m    \u001b[39m\u001b[39m\"\"\"Clicks the element.\"\"\"\u001b[39;00m\n\u001b[1;32m---> 93\u001b[0m     \u001b[39mself\u001b[39m\u001b[39m.\u001b[39m_execute(Command\u001b[39m.\u001b[39mCLICK_ELEMENT)\n",
      "File \u001b[1;32mc:\\Users\\human\\anaconda3\\Lib\\site-packages\\selenium\\webdriver\\remote\\webelement.py:394\u001b[0m, in \u001b[0;36mWebElement._execute\u001b[1;34m(self, command, params)\u001b[0m\n\u001b[0;32m    392\u001b[0m     params \u001b[39m=\u001b[39m {}\n\u001b[0;32m    393\u001b[0m params[\u001b[39m\"\u001b[39m\u001b[39mid\u001b[39m\u001b[39m\"\u001b[39m] \u001b[39m=\u001b[39m \u001b[39mself\u001b[39m\u001b[39m.\u001b[39m_id\n\u001b[1;32m--> 394\u001b[0m \u001b[39mreturn\u001b[39;00m \u001b[39mself\u001b[39m\u001b[39m.\u001b[39m_parent\u001b[39m.\u001b[39mexecute(command, params)\n",
      "File \u001b[1;32mc:\\Users\\human\\anaconda3\\Lib\\site-packages\\selenium\\webdriver\\remote\\webdriver.py:344\u001b[0m, in \u001b[0;36mWebDriver.execute\u001b[1;34m(self, driver_command, params)\u001b[0m\n\u001b[0;32m    342\u001b[0m response \u001b[39m=\u001b[39m \u001b[39mself\u001b[39m\u001b[39m.\u001b[39mcommand_executor\u001b[39m.\u001b[39mexecute(driver_command, params)\n\u001b[0;32m    343\u001b[0m \u001b[39mif\u001b[39;00m response:\n\u001b[1;32m--> 344\u001b[0m     \u001b[39mself\u001b[39m\u001b[39m.\u001b[39merror_handler\u001b[39m.\u001b[39mcheck_response(response)\n\u001b[0;32m    345\u001b[0m     response[\u001b[39m\"\u001b[39m\u001b[39mvalue\u001b[39m\u001b[39m\"\u001b[39m] \u001b[39m=\u001b[39m \u001b[39mself\u001b[39m\u001b[39m.\u001b[39m_unwrap_value(response\u001b[39m.\u001b[39mget(\u001b[39m\"\u001b[39m\u001b[39mvalue\u001b[39m\u001b[39m\"\u001b[39m, \u001b[39mNone\u001b[39;00m))\n\u001b[0;32m    346\u001b[0m     \u001b[39mreturn\u001b[39;00m response\n",
      "File \u001b[1;32mc:\\Users\\human\\anaconda3\\Lib\\site-packages\\selenium\\webdriver\\remote\\errorhandler.py:229\u001b[0m, in \u001b[0;36mErrorHandler.check_response\u001b[1;34m(self, response)\u001b[0m\n\u001b[0;32m    227\u001b[0m         alert_text \u001b[39m=\u001b[39m value[\u001b[39m\"\u001b[39m\u001b[39malert\u001b[39m\u001b[39m\"\u001b[39m]\u001b[39m.\u001b[39mget(\u001b[39m\"\u001b[39m\u001b[39mtext\u001b[39m\u001b[39m\"\u001b[39m)\n\u001b[0;32m    228\u001b[0m     \u001b[39mraise\u001b[39;00m exception_class(message, screen, stacktrace, alert_text)  \u001b[39m# type: ignore[call-arg]  # mypy is not smart enough here\u001b[39;00m\n\u001b[1;32m--> 229\u001b[0m \u001b[39mraise\u001b[39;00m exception_class(message, screen, stacktrace)\n",
      "\u001b[1;31mElementNotInteractableException\u001b[0m: Message: element not interactable\n  (Session info: chrome=119.0.6045.160)\nStacktrace:\n\tGetHandleVerifier [0x00007FF68DCA82B2+55298]\n\t(No symbol) [0x00007FF68DC15E02]\n\t(No symbol) [0x00007FF68DAD045D]\n\t(No symbol) [0x00007FF68DB12B4C]\n\t(No symbol) [0x00007FF68DB087BF]\n\t(No symbol) [0x00007FF68DB320AA]\n\t(No symbol) [0x00007FF68DB080CF]\n\t(No symbol) [0x00007FF68DB322C0]\n\t(No symbol) [0x00007FF68DB4AAA4]\n\t(No symbol) [0x00007FF68DB31E83]\n\t(No symbol) [0x00007FF68DB0670A]\n\t(No symbol) [0x00007FF68DB07964]\n\tGetHandleVerifier [0x00007FF68E020AAB+3694587]\n\tGetHandleVerifier [0x00007FF68E07728E+4048862]\n\tGetHandleVerifier [0x00007FF68E06F173+4015811]\n\tGetHandleVerifier [0x00007FF68DD447D6+695590]\n\t(No symbol) [0x00007FF68DC20CE8]\n\t(No symbol) [0x00007FF68DC1CF34]\n\t(No symbol) [0x00007FF68DC1D062]\n\t(No symbol) [0x00007FF68DC0D3A3]\n\tBaseThreadInitThunk [0x00007FFB43837344+20]\n\tRtlUserThreadStart [0x00007FFB43D426B1+33]\n"
     ]
    }
   ],
   "source": [
    "data = []\n",
    "total_pages = 15\n",
    "\n",
    "for i in range(1, total_pages + 1):\n",
    "    url = 'https://korean.visitkorea.or.kr/list/travelinfo.do?service=show'\n",
    "    driver = webdriver.Chrome()\n",
    "    driver.get(url)\n",
    "\n",
    "    # '서울' 버튼 클릭\n",
    "    driver.find_element(By.XPATH, '//*[@id=\"1\"]/button/span').click()\n",
    "\n",
    "    # 대기 시간 추가 (예: 10초)\n",
    "    time.sleep(10)\n",
    "\n",
    "    for li in lis:\n",
    "        # 각 li에 대한 작업 수행\n",
    "        try:\n",
    "            # 각 li를 클릭하여 세부 페이지로 이동\n",
    "            li.find_element(By.CSS_SELECTOR, '.tit').click()\n",
    "\n",
    "            # 대기 시간 추가 (예: 5초)\n",
    "            time.sleep(5)\n",
    "\n",
    "            # 세부 페이지에서 데이터 추출\n",
    "            sub_soup = BeautifulSoup(driver.page_source, 'html.parser')\n",
    "            title = sub_soup.select_one('#topTitle').get_text().strip()\n",
    "            date = sub_soup.select_one('#topAddr > span:nth-child(2)').get_text().strip()\n",
    "            addr = sub_soup.select_one('#detailGo > div:nth-child(5) > div > div.inr_wrap > div > ul > li:nth-child(5) > span').get_text().strip()\n",
    "\n",
    "            # 데이터 추가\n",
    "            data.append({'행사명': title, '기간': date, '주소': addr})\n",
    "\n",
    "            # 이전 페이지로 돌아가기\n",
    "            driver.back()\n",
    "\n",
    "        except Exception as e:\n",
    "            print(f\"Error processing li: {str(e)}\")\n",
    "\n",
    "driver.quit()"
   ]
  },
  {
   "cell_type": "code",
   "execution_count": null,
   "metadata": {},
   "outputs": [],
   "source": []
  }
 ],
 "metadata": {
  "kernelspec": {
   "display_name": "base",
   "language": "python",
   "name": "python3"
  },
  "language_info": {
   "codemirror_mode": {
    "name": "ipython",
    "version": 3
   },
   "file_extension": ".py",
   "mimetype": "text/x-python",
   "name": "python",
   "nbconvert_exporter": "python",
   "pygments_lexer": "ipython3",
   "version": "3.11.4"
  }
 },
 "nbformat": 4,
 "nbformat_minor": 2
}
