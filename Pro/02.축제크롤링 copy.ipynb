{
 "cells": [
  {
   "cell_type": "code",
   "execution_count": 1,
   "metadata": {},
   "outputs": [],
   "source": [
    "import time\n",
    "import pandas as pd \n",
    "from bs4 import BeautifulSoup\n",
    "from selenium import webdriver\n",
    "from selenium.webdriver.common.by import By\n",
    "from selenium.webdriver.common.keys import Keys\n",
    "from urllib.parse import quote\n",
    "from tqdm import tqdm"
   ]
  },
  {
   "cell_type": "code",
   "execution_count": 2,
   "metadata": {},
   "outputs": [],
   "source": [
    "# 한국관광공사 축제 주소 입력\n",
    "url = 'https://korean.visitkorea.or.kr/kfes/list/wntyFstvlList.do'\n",
    "driver = webdriver.Chrome()\n",
    "driver.get(url)\n",
    "soup = BeautifulSoup(driver.page_source, 'html.parser')\n",
    "time.sleep(2)"
   ]
  },
  {
   "cell_type": "code",
   "execution_count": 3,
   "metadata": {},
   "outputs": [],
   "source": [
    "#서울태그 선택\n",
    "driver.find_element(By.XPATH, '//*[@id=\"searchArea\"]/option[2]').click()\n",
    "driver.find_element(By.XPATH, '//*[@id=\"btnSearch\"]').click()\n",
    "time.sleep(2)"
   ]
  },
  {
   "cell_type": "code",
   "execution_count": 4,
   "metadata": {},
   "outputs": [],
   "source": [
    "body = driver.find_element(By.TAG_NAME, 'body')\n",
    "for _ in range(27):\n",
    "    body.send_keys(Keys.PAGE_DOWN)\n",
    "    time.sleep(1)"
   ]
  },
  {
   "cell_type": "code",
   "execution_count": 5,
   "metadata": {},
   "outputs": [
    {
     "data": {
      "text/plain": [
       "12"
      ]
     },
     "execution_count": 5,
     "metadata": {},
     "output_type": "execute_result"
    }
   ],
   "source": [
    "# 한페이지에 있는 축제갯수\n",
    "lis = soup.select('body > main > div > section.other_list.type2 > div > div > div.tab_cont_area > div.tab_cont.active > #fstvlList > li')\n",
    "len(lis)"
   ]
  },
  {
   "cell_type": "code",
   "execution_count": 11,
   "metadata": {},
   "outputs": [
    {
     "name": "stdout",
     "output_type": "stream",
     "text": [
      "/kfes/detail/fstvlDetail.do?fstvlCntntsId=6cdd2bcd-4239-4c3d-9ef3-b14b27e7e9ab\n"
     ]
    }
   ],
   "source": [
    "sub_url = li.select_one('a')['href']\n",
    "print(sub_url)"
   ]
  },
  {
   "cell_type": "code",
   "execution_count": null,
   "metadata": {},
   "outputs": [],
   "source": [
    "https://korean.visitkorea.or.kr/kfes/list/wntyFstvlList.do\n",
    "https://korean.visitkorea.or.kr/kfes/detail/fstvlDetail.do?fstvlCntntsId=66d1462e-e599-4ed6-a539-152f63d7f414"
   ]
  },
  {
   "cell_type": "code",
   "execution_count": 7,
   "metadata": {},
   "outputs": [],
   "source": [
    "full_url = f'https://korean.visitkorea.or.kr/{sub_url}'  # 여기에 실제 도메인을 넣어주세요\n",
    "driver.get(full_url)"
   ]
  },
  {
   "cell_type": "code",
   "execution_count": 8,
   "metadata": {},
   "outputs": [
    {
     "data": {
      "text/plain": [
       "'경남 콘텐츠 페어 GNCF'"
      ]
     },
     "execution_count": 8,
     "metadata": {},
     "output_type": "execute_result"
    }
   ],
   "source": [
    "# 축제이름\n",
    "sub_soup = BeautifulSoup(driver.page_source, 'html.parser')\n",
    "title = sub_soup.select_one('body > main > div > div > section.poster_title > div > div > div.festival_title > h2').get_text()\n",
    "title"
   ]
  },
  {
   "cell_type": "code",
   "execution_count": 9,
   "metadata": {},
   "outputs": [
    {
     "data": {
      "text/plain": [
       "'2023.11.26 ~ 2023.11.27'"
      ]
     },
     "execution_count": 9,
     "metadata": {},
     "output_type": "execute_result"
    }
   ],
   "source": [
    "#축제 날짜\n",
    "date = sub_soup.select_one('body > main > div > div > section.poster_detail > div > div.poster_detail_wrap > div > div > ul > li:nth-child(1) > p').get_text().strip()\n",
    "date"
   ]
  },
  {
   "cell_type": "code",
   "execution_count": 10,
   "metadata": {},
   "outputs": [
    {
     "data": {
      "text/plain": [
       "'경상남도 창원시 성산구 원이대로 362 (대원동)\\xa0창원컨벤션센터 3전시장'"
      ]
     },
     "execution_count": 10,
     "metadata": {},
     "output_type": "execute_result"
    }
   ],
   "source": [
    "# 축제 장소\n",
    "place = sub_soup.select_one('body > main > div > div > section.poster_detail > div > div.poster_detail_wrap > div > div > ul > li:nth-child(2) > p').get_text().strip()\n",
    "place\n"
   ]
  },
  {
   "cell_type": "code",
   "execution_count": null,
   "metadata": {},
   "outputs": [],
   "source": [
    "data = []\n",
    "for li in lis:\n",
    "    \n",
    "    \n",
    "    "
   ]
  },
  {
   "cell_type": "code",
   "execution_count": 64,
   "metadata": {},
   "outputs": [],
   "source": [
    "# BeautifulSoup으로 페이지 HTML 파싱\n",
    "page_soup = BeautifulSoup('html.parser')\n",
    "\n",
    "# .loc 클래스를 가진 엘리먼트의 텍스트 가져오기\n",
    "loc_element = page_soup.select_one('.loc')\n",
    "\n",
    "if loc_element and '서울' in loc_element.get_text():\n",
    "    # \"서울\"이 포함되어 있으면 해당 축제 정보 출력\n",
    "    print(f'Seoul Festival found: {full_url}')\n",
    "driver.get(full_url)\n"
   ]
  },
  {
   "cell_type": "code",
   "execution_count": 41,
   "metadata": {},
   "outputs": [],
   "source": [
    "# BeautifulSoup으로 HTML 파싱\n",
    "soup = BeautifulSoup('html.parser')\n",
    "\n",
    "# Selenium 웹 드라이버 초기화\n",
    "driver = webdriver.Chrome()\n",
    "\n",
    "# 웹 드라이버로 각 링크에 접근\n",
    "lis = soup.select('body > main > div > section.other_list.type2 > div > div > div.tab_cont_area > div.tab_cont.active > ul > li')\n",
    "\n",
    "\n",
    "sub_url = li.select_one('a')['href']\n",
    "\n",
    "    # URL을 사용하여 해당 페이지에 접근\n",
    "full_url = f'https://korean.visitkorea.or.kr/{sub_url}'  # 여기에 실제 도메인을 넣어주세요\n",
    "driver.get(full_url)"
   ]
  },
  {
   "cell_type": "code",
   "execution_count": 14,
   "metadata": {},
   "outputs": [
    {
     "data": {
      "text/plain": [
       "<div class=\"tit\"> <a href=\"javascript:;\" onclick=\"goDetail('a36ea57f-a746-4cca-a6e9-b886a21acffb','A02','A0208','1');\">한국·프랑스 공동창작 공연 &lt;제자리&gt;</a> </div>"
      ]
     },
     "execution_count": 14,
     "metadata": {},
     "output_type": "execute_result"
    }
   ],
   "source": [
    "li = lis[0]\n",
    "li.select_one('.tit')"
   ]
  },
  {
   "cell_type": "code",
   "execution_count": 19,
   "metadata": {},
   "outputs": [],
   "source": [
    "from selenium import webdriver\n",
    "import time\n",
    "\n",
    "# WebDriver 초기화\n",
    "driver = webdriver.Chrome()\n",
    "\n",
    "# 웹 페이지 열기\n",
    "driver.get(\"https://korean.visitkorea.or.kr/list/travelinfo.do?service=show\")  # URL에는 해당 페이지의 주소를 입력하세요.\n",
    "\n",
    "# JavaScript 함수 호출\n",
    "script = \"\"\"goDetail('a36ea57f-a746-4cca-a6e9-b886a21acffb','A02','A0208','1');\"\"\"\n",
    "driver.execute_script(script)\n",
    "\n",
    "# 원하는 동작이 완료되도록 충분히 대기 (이 부분은 상황에 따라 조절이 필요할 수 있습니다)\n",
    "time.sleep(2)\n",
    "\n",
    "# 웹 드라이버 종료\n",
    "driver.quit()\n"
   ]
  },
  {
   "cell_type": "code",
   "execution_count": 13,
   "metadata": {},
   "outputs": [
    {
     "ename": "TypeError",
     "evalue": "'NoneType' object is not callable",
     "output_type": "error",
     "traceback": [
      "\u001b[1;31m---------------------------------------------------------------------------\u001b[0m",
      "\u001b[1;31mTypeError\u001b[0m                                 Traceback (most recent call last)",
      "\u001b[1;32md:\\WorkSpace\\Pro\\01..ipynb 셀 8\u001b[0m line \u001b[0;36m1\n\u001b[1;32m----> <a href='vscode-notebook-cell:/d%3A/WorkSpace/Pro/01..ipynb#X12sZmlsZQ%3D%3D?line=0'>1</a>\u001b[0m li\u001b[39m.\u001b[39mselect_one(\u001b[39m'\u001b[39m\u001b[39m.tit\u001b[39m\u001b[39m'\u001b[39m)\u001b[39m.\u001b[39mclick()\n",
      "\u001b[1;31mTypeError\u001b[0m: 'NoneType' object is not callable"
     ]
    }
   ],
   "source": [
    "li.select_one('.tit').click()"
   ]
  },
  {
   "cell_type": "code",
   "execution_count": 150,
   "metadata": {},
   "outputs": [
    {
     "ename": "AttributeError",
     "evalue": "'NoneType' object has no attribute 'click'",
     "output_type": "error",
     "traceback": [
      "\u001b[1;31m---------------------------------------------------------------------------\u001b[0m",
      "\u001b[1;31mAttributeError\u001b[0m                            Traceback (most recent call last)",
      "\u001b[1;32md:\\works\\조세훈\\01.이벤트크롤링.ipynb Cell 6\u001b[0m line \u001b[0;36m3\n\u001b[0;32m      <a href='vscode-notebook-cell:/d%3A/works/%EC%A1%B0%EC%84%B8%ED%9B%88/01.%EC%9D%B4%EB%B2%A4%ED%8A%B8%ED%81%AC%EB%A1%A4%EB%A7%81.ipynb#X10sZmlsZQ%3D%3D?line=0'>1</a>\u001b[0m li \u001b[39m=\u001b[39m lis[\u001b[39m3\u001b[39m]\n\u001b[0;32m      <a href='vscode-notebook-cell:/d%3A/works/%EC%A1%B0%EC%84%B8%ED%9B%88/01.%EC%9D%B4%EB%B2%A4%ED%8A%B8%ED%81%AC%EB%A1%A4%EB%A7%81.ipynb#X10sZmlsZQ%3D%3D?line=1'>2</a>\u001b[0m x \u001b[39m=\u001b[39m li\u001b[39m.\u001b[39mselect_one(\u001b[39m'\u001b[39m\u001b[39m#contents > div.wrap_contView.clfix > div.box_leftType1 > ul > li:nth-child(5) > div.area_txt > div\u001b[39m\u001b[39m'\u001b[39m)\n\u001b[1;32m----> <a href='vscode-notebook-cell:/d%3A/works/%EC%A1%B0%EC%84%B8%ED%9B%88/01.%EC%9D%B4%EB%B2%A4%ED%8A%B8%ED%81%AC%EB%A1%A4%EB%A7%81.ipynb#X10sZmlsZQ%3D%3D?line=2'>3</a>\u001b[0m x\u001b[39m.\u001b[39mclick()\n",
      "\u001b[1;31mAttributeError\u001b[0m: 'NoneType' object has no attribute 'click'"
     ]
    }
   ],
   "source": [
    "data = []\n",
    "for i in range(1, 16):\n",
    "    driver.find_element(By.XPATH, '//*[@id=\"2\"]')"
   ]
  },
  {
   "cell_type": "code",
   "execution_count": 21,
   "metadata": {},
   "outputs": [
    {
     "name": "stdout",
     "output_type": "stream",
     "text": [
      "한국·프랑스 공동창작 공연 <제자리>\n"
     ]
    }
   ],
   "source": [
    "from bs4 import BeautifulSoup\n",
    "\n",
    "html_code = '<a href=\"javascript:;\" onclick=\"goDetail(\\'a36ea57f-a746-4cca-a6e9-b886a21acffb\\',\\'A02\\',\\'A0208\\',\\'1\\');\">한국·프랑스 공동창작 공연 &lt;제자리&gt;</a>'\n",
    "\n",
    "soup = BeautifulSoup(html_code, 'html.parser')\n",
    "title = soup.a.get_text()\n",
    "\n",
    "print(title)\n"
   ]
  },
  {
   "cell_type": "code",
   "execution_count": null,
   "metadata": {},
   "outputs": [],
   "source": [
    "//*[@id=\"2\"]"
   ]
  }
 ],
 "metadata": {
  "kernelspec": {
   "display_name": "base",
   "language": "python",
   "name": "python3"
  },
  "language_info": {
   "codemirror_mode": {
    "name": "ipython",
    "version": 3
   },
   "file_extension": ".py",
   "mimetype": "text/x-python",
   "name": "python",
   "nbconvert_exporter": "python",
   "pygments_lexer": "ipython3",
   "version": "3.11.4"
  }
 },
 "nbformat": 4,
 "nbformat_minor": 2
}
