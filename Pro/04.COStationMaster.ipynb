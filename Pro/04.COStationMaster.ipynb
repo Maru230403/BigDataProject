{
 "cells": [
  {
   "cell_type": "markdown",
   "metadata": {},
   "source": [
    "### pendulum : datetime 조작 library\n",
    "- pip install pendulum"
   ]
  },
  {
   "cell_type": "code",
   "execution_count": 1,
   "metadata": {},
   "outputs": [
    {
     "name": "stdout",
     "output_type": "stream",
     "text": [
      "<class 'pendulum.datetime.DateTime'> 2023-11-24T00:00:00+09:00\n"
     ]
    }
   ],
   "source": [
    "import pendulum\n",
    "dt = pendulum.datetime(2023,11,24, tz=\"Asia/Seoul\")\n",
    "print(type(dt),dt)"
   ]
  },
  {
   "cell_type": "code",
   "execution_count": 7,
   "metadata": {},
   "outputs": [],
   "source": [
    "import oracledb\n",
    "import os\n",
    "import pandas as pd\n",
    "\n",
    "# dsn = cx_Oracle.makedsn(host=hostName, port=partNumber, sid=None, service_name=serviceName)\n",
    "\n",
    "un = os.environ.get('PYTHON_USERNAME')\n",
    "pw = os.environ.get('PYTHON_PASSWORD')\n",
    "cs = os.environ.get('PYTHON_CONNECTSTRING')\n",
    "\n",
    "# oracledb.init_oracle_client(lib_dir=\"/Desktop/oracle/instantclient_19/basic\")\n",
    "oracledb.init_oracle_client()\n",
    "con = oracledb.connect(user=\"hmuser\", password='hmpass', host=\"localhost\", port=1521, service_name=\"XE\")\n",
    "cursor = con.cursor()\n",
    "\n",
    "#쿼리문\n",
    "sql = \"\"\"select * from blog\"\"\"\n",
    "\n",
    "cursor.execute(sql)\n",
    "\n",
    "columns = [col[0] for col in cursor.description]\n",
    "\n",
    "x = cursor.fetchall()\n",
    "df = pd.DataFrame(x, columns=columns)\n",
    "\n",
    "cursor.close()\n",
    "con.close()"
   ]
  },
  {
   "cell_type": "code",
   "execution_count": 8,
   "metadata": {},
   "outputs": [
    {
     "data": {
      "text/html": [
       "<div>\n",
       "<style scoped>\n",
       "    .dataframe tbody tr th:only-of-type {\n",
       "        vertical-align: middle;\n",
       "    }\n",
       "\n",
       "    .dataframe tbody tr th {\n",
       "        vertical-align: top;\n",
       "    }\n",
       "\n",
       "    .dataframe thead th {\n",
       "        text-align: right;\n",
       "    }\n",
       "</style>\n",
       "<table border=\"1\" class=\"dataframe\">\n",
       "  <thead>\n",
       "    <tr style=\"text-align: right;\">\n",
       "      <th></th>\n",
       "      <th>BID</th>\n",
       "      <th>PENNAME</th>\n",
       "      <th>TITLE</th>\n",
       "      <th>CONTENT</th>\n",
       "      <th>MODTIME</th>\n",
       "      <th>VIEWCOUNT</th>\n",
       "      <th>ISDELETED</th>\n",
       "    </tr>\n",
       "  </thead>\n",
       "  <tbody>\n",
       "    <tr>\n",
       "      <th>0</th>\n",
       "      <td>1</td>\n",
       "      <td>고수</td>\n",
       "      <td>오라클</td>\n",
       "      <td>오라클은 참 좋은 DMBS이네요.</td>\n",
       "      <td>2023-08-23 14:19:23.354</td>\n",
       "      <td>3</td>\n",
       "      <td>0</td>\n",
       "    </tr>\n",
       "    <tr>\n",
       "      <th>1</th>\n",
       "      <td>2</td>\n",
       "      <td>고수</td>\n",
       "      <td>MYSQL</td>\n",
       "      <td>MYSQL도 참 좋은 DMBS이네요.</td>\n",
       "      <td>2023-08-23 14:19:42.179</td>\n",
       "      <td>0</td>\n",
       "      <td>1</td>\n",
       "    </tr>\n",
       "    <tr>\n",
       "      <th>2</th>\n",
       "      <td>3</td>\n",
       "      <td>프로그래머</td>\n",
       "      <td>자바</td>\n",
       "      <td>자바는 객체지향 프로그램...\\r\\n컬렉션도 중요해요...</td>\n",
       "      <td>2023-08-25 10:15:40.220</td>\n",
       "      <td>9</td>\n",
       "      <td>0</td>\n",
       "    </tr>\n",
       "    <tr>\n",
       "      <th>3</th>\n",
       "      <td>4</td>\n",
       "      <td>프로그래머</td>\n",
       "      <td>파이썬</td>\n",
       "      <td>파이썬은 배우기 쉬운 프로그래밍 언어입니다.</td>\n",
       "      <td>2023-08-25 10:14:37.205</td>\n",
       "      <td>2</td>\n",
       "      <td>0</td>\n",
       "    </tr>\n",
       "    <tr>\n",
       "      <th>4</th>\n",
       "      <td>6</td>\n",
       "      <td>스프링</td>\n",
       "      <td>스프링 부트</td>\n",
       "      <td>김수정\\r\\n양수정</td>\n",
       "      <td>2023-08-24 16:23:55.858</td>\n",
       "      <td>46</td>\n",
       "      <td>1</td>\n",
       "    </tr>\n",
       "  </tbody>\n",
       "</table>\n",
       "</div>"
      ],
      "text/plain": [
       "   BID PENNAME   TITLE                           CONTENT  \\\n",
       "0    1      고수     오라클                오라클은 참 좋은 DMBS이네요.   \n",
       "1    2      고수   MYSQL              MYSQL도 참 좋은 DMBS이네요.   \n",
       "2    3   프로그래머      자바  자바는 객체지향 프로그램...\\r\\n컬렉션도 중요해요...   \n",
       "3    4   프로그래머     파이썬          파이썬은 배우기 쉬운 프로그래밍 언어입니다.   \n",
       "4    6     스프링  스프링 부트                        김수정\\r\\n양수정   \n",
       "\n",
       "                  MODTIME  VIEWCOUNT  ISDELETED  \n",
       "0 2023-08-23 14:19:23.354          3          0  \n",
       "1 2023-08-23 14:19:42.179          0          1  \n",
       "2 2023-08-25 10:15:40.220          9          0  \n",
       "3 2023-08-25 10:14:37.205          2          0  \n",
       "4 2023-08-24 16:23:55.858         46          1  "
      ]
     },
     "execution_count": 8,
     "metadata": {},
     "output_type": "execute_result"
    }
   ],
   "source": [
    "df.head()"
   ]
  },
  {
   "cell_type": "code",
   "execution_count": 41,
   "metadata": {},
   "outputs": [],
   "source": [
    "def chunker(seq, size):\n",
    "    return (seq[pos:pos + size] for pos in range(0, len(seq), size))"
   ]
  },
  {
   "cell_type": "code",
   "execution_count": 42,
   "metadata": {},
   "outputs": [],
   "source": [
    "# 필요한 라이브러리를 불러옵니다.\n",
    "def pyarrowDf_to_db_executemany(df, chunksize):\n",
    "    import os  # 운영 체제와 상호 작용하기 위한 라이브러리\n",
    "    import sys  # Python 시스템 관련 기능을 사용하기 위한 라이브러리\n",
    "    import pendulum  # 날짜와 시간을 다루기 쉽게 해주는 라이브러리\n",
    "    import oracledb  # Oracle 데이터베이스와 상호 작용하기 위한 라이브러리\n",
    "\n",
    "    # 함수 이름과 실행 시간을 출력합니다.\n",
    "    print(\"[function name]: [%s]: [%s]\" % (sys._getframe().f_code.co_name, pendulum.now('Asia/Seoul').strftime('%Y-%m-%d %H:%M:%S')))\n",
    "\n",
    "    # 함수 실행 시작 시간을 기록합니다.\n",
    "    start_dt = pendulum.now('Asia/Seoul')\n",
    "\n",
    "    # Oracle 데이터베이스 연결 정보를 환경 변수에서 가져옵니다.\n",
    "    un = os.environ.get('PYTHON_USERNAME')\n",
    "    pw = os.environ.get('PYTHON_PASSWORD')\n",
    "    cs = os.environ.get('PYTHON_CONNECTSTRING')\n",
    "\n",
    "    # Oracle 클라이언트를 초기화하고 데이터베이스에 연결합니다.\n",
    "    oracledb.init_oracle_client()\n",
    "    con = oracledb.connect(user=\"hmuser\", password='hmpass', host=\"localhost\", port=1521, service_name=\"XE\")\n",
    "    cur = con.cursor()\n",
    "\n",
    "    # 데이터베이스 테이블을 초기화하는 주석 처리된 코드입니다.\n",
    "    # cur.execute(\"TRUNCATE TABLE PINO93.NHIS_OPEN_T60_2018\")\n",
    "    # con.commit()\n",
    "\n",
    "    # 데이터베이스에 삽입할 SQL 문을 작성합니다.\n",
    "    insert_statement = \"\"\"INSERT INTO RENT (week, sta_id, addr, no_rent) VALUES (:1, :2, :3, :4)\"\"\"\n",
    "\n",
    "    # SQL 문을 미리 컴파일하여 성능을 최적화합니다.\n",
    "    try:\n",
    "        cur.prepare(insert_statement)\n",
    "    except:\n",
    "        print('insert_statement Error')\n",
    "        exit(1)\n",
    "\n",
    "    # 주어진 데이터프레임을 작은 청크로 나누어 반복적으로 처리합니다.\n",
    "    for subDf in chunker(df, chunksize):\n",
    "        # 데이터프레임을 리스트로 변환합니다.\n",
    "        csv_df_dataset_lst = subDf.values.tolist()\n",
    "        # executemany를 사용하여 여러 데이터를 한 번에 삽입합니다.\n",
    "        cur.executemany(insert_statement, csv_df_dataset_lst)\n",
    "        # 변경사항을 데이터베이스에 반영합니다.\n",
    "        con.commit()\n",
    "\n",
    "    # 커서와 데이터베이스 연결을 닫습니다.\n",
    "    cur.close()\n",
    "    con.close()\n",
    "\n",
    "    # 함수 실행 종료 시간을 기록하고 소요된 시간을 출력합니다.\n",
    "    end_dt = pendulum.now('Asia/Seoul')\n",
    "    delta = end_dt - start_dt\n",
    "    print(\"[function]:[%s], [chunksize]:[%s], [elapsed time]:[%s]\" % (sys._getframe().f_code.co_name, format(chunksize, ','), delta.in_words()))\n"
   ]
  },
  {
   "cell_type": "code",
   "execution_count": 11,
   "metadata": {},
   "outputs": [
    {
     "data": {
      "text/html": [
       "<div>\n",
       "<style scoped>\n",
       "    .dataframe tbody tr th:only-of-type {\n",
       "        vertical-align: middle;\n",
       "    }\n",
       "\n",
       "    .dataframe tbody tr th {\n",
       "        vertical-align: top;\n",
       "    }\n",
       "\n",
       "    .dataframe thead th {\n",
       "        text-align: right;\n",
       "    }\n",
       "</style>\n",
       "<table border=\"1\" class=\"dataframe\">\n",
       "  <thead>\n",
       "    <tr style=\"text-align: right;\">\n",
       "      <th></th>\n",
       "      <th>주차</th>\n",
       "      <th>대여소번호</th>\n",
       "      <th>대여소</th>\n",
       "      <th>대여건수</th>\n",
       "    </tr>\n",
       "  </thead>\n",
       "  <tbody>\n",
       "    <tr>\n",
       "      <th>0</th>\n",
       "      <td>1</td>\n",
       "      <td>102</td>\n",
       "      <td>102. 망원역 1번출구 앞</td>\n",
       "      <td>171.0</td>\n",
       "    </tr>\n",
       "    <tr>\n",
       "      <th>1</th>\n",
       "      <td>1</td>\n",
       "      <td>103</td>\n",
       "      <td>103. 망원역 2번출구 앞</td>\n",
       "      <td>157.0</td>\n",
       "    </tr>\n",
       "    <tr>\n",
       "      <th>2</th>\n",
       "      <td>1</td>\n",
       "      <td>104</td>\n",
       "      <td>104. 합정역 1번출구 앞</td>\n",
       "      <td>141.0</td>\n",
       "    </tr>\n",
       "    <tr>\n",
       "      <th>3</th>\n",
       "      <td>1</td>\n",
       "      <td>105</td>\n",
       "      <td>105. 합정역 5번출구 앞</td>\n",
       "      <td>71.0</td>\n",
       "    </tr>\n",
       "    <tr>\n",
       "      <th>4</th>\n",
       "      <td>1</td>\n",
       "      <td>106</td>\n",
       "      <td>106. 합정역 7번출구 앞</td>\n",
       "      <td>145.0</td>\n",
       "    </tr>\n",
       "  </tbody>\n",
       "</table>\n",
       "</div>"
      ],
      "text/plain": [
       "  주차 대여소번호              대여소   대여건수\n",
       "0  1   102  102. 망원역 1번출구 앞  171.0\n",
       "1  1   103  103. 망원역 2번출구 앞  157.0\n",
       "2  1   104  104. 합정역 1번출구 앞  141.0\n",
       "3  1   105  105. 합정역 5번출구 앞   71.0\n",
       "4  1   106  106. 합정역 7번출구 앞  145.0"
      ]
     },
     "execution_count": 11,
     "metadata": {},
     "output_type": "execute_result"
    }
   ],
   "source": [
    "import pandas as pd\n",
    "df = pd.read_csv('../Pro/data/2023/2023(1~6).csv')\n",
    "df.head()"
   ]
  },
  {
   "cell_type": "code",
   "execution_count": 12,
   "metadata": {},
   "outputs": [
    {
     "data": {
      "text/plain": [
       "(83862, 4)"
      ]
     },
     "execution_count": 12,
     "metadata": {},
     "output_type": "execute_result"
    }
   ],
   "source": [
    "df.shape"
   ]
  },
  {
   "cell_type": "code",
   "execution_count": 13,
   "metadata": {},
   "outputs": [
    {
     "data": {
      "text/plain": [
       "주차        object\n",
       "대여소번호     object\n",
       "대여소       object\n",
       "대여건수     float64\n",
       "dtype: object"
      ]
     },
     "execution_count": 13,
     "metadata": {},
     "output_type": "execute_result"
    }
   ],
   "source": [
    "df.dtypes"
   ]
  },
  {
   "cell_type": "code",
   "execution_count": 20,
   "metadata": {},
   "outputs": [
    {
     "data": {
      "text/plain": [
       "주차           0\n",
       "대여소번호    67322\n",
       "대여소      67770\n",
       "대여건수     67770\n",
       "dtype: int64"
      ]
     },
     "execution_count": 20,
     "metadata": {},
     "output_type": "execute_result"
    }
   ],
   "source": [
    "df.isna().sum()"
   ]
  },
  {
   "cell_type": "code",
   "execution_count": 26,
   "metadata": {},
   "outputs": [
    {
     "data": {
      "text/html": [
       "<div>\n",
       "<style scoped>\n",
       "    .dataframe tbody tr th:only-of-type {\n",
       "        vertical-align: middle;\n",
       "    }\n",
       "\n",
       "    .dataframe tbody tr th {\n",
       "        vertical-align: top;\n",
       "    }\n",
       "\n",
       "    .dataframe thead th {\n",
       "        text-align: right;\n",
       "    }\n",
       "</style>\n",
       "<table border=\"1\" class=\"dataframe\">\n",
       "  <thead>\n",
       "    <tr style=\"text-align: right;\">\n",
       "      <th></th>\n",
       "      <th>주차</th>\n",
       "      <th>대여소번호</th>\n",
       "      <th>대여소</th>\n",
       "      <th>대여건수</th>\n",
       "    </tr>\n",
       "  </thead>\n",
       "  <tbody>\n",
       "    <tr>\n",
       "      <th>83857</th>\n",
       "      <td>26\\t5866\\t5866.포레나 당산\\t165</td>\n",
       "      <td>NaN</td>\n",
       "      <td>NaN</td>\n",
       "      <td>NaN</td>\n",
       "    </tr>\n",
       "    <tr>\n",
       "      <th>83858</th>\n",
       "      <td>26\\t5867\\t5867. H타워 앞\\t156</td>\n",
       "      <td>NaN</td>\n",
       "      <td>NaN</td>\n",
       "      <td>NaN</td>\n",
       "    </tr>\n",
       "    <tr>\n",
       "      <th>83859</th>\n",
       "      <td>26\\t6053\\t6053. 중부세무서 앞\\t31</td>\n",
       "      <td>NaN</td>\n",
       "      <td>NaN</td>\n",
       "      <td>NaN</td>\n",
       "    </tr>\n",
       "    <tr>\n",
       "      <th>83860</th>\n",
       "      <td>26\\t6054\\t6054.청구e편한세상아파트 113동 앞\\t123</td>\n",
       "      <td>NaN</td>\n",
       "      <td>NaN</td>\n",
       "      <td>NaN</td>\n",
       "    </tr>\n",
       "    <tr>\n",
       "      <th>83861</th>\n",
       "      <td>26\\t9980\\t9980. 에이텍\\t1</td>\n",
       "      <td>NaN</td>\n",
       "      <td>NaN</td>\n",
       "      <td>NaN</td>\n",
       "    </tr>\n",
       "  </tbody>\n",
       "</table>\n",
       "</div>"
      ],
      "text/plain": [
       "                                          주차 대여소번호  대여소  대여건수\n",
       "83857             26\\t5866\\t5866.포레나 당산\\t165   NaN  NaN   NaN\n",
       "83858             26\\t5867\\t5867. H타워 앞\\t156   NaN  NaN   NaN\n",
       "83859            26\\t6053\\t6053. 중부세무서 앞\\t31   NaN  NaN   NaN\n",
       "83860  26\\t6054\\t6054.청구e편한세상아파트 113동 앞\\t123   NaN  NaN   NaN\n",
       "83861                 26\\t9980\\t9980. 에이텍\\t1   NaN  NaN   NaN"
      ]
     },
     "execution_count": 26,
     "metadata": {},
     "output_type": "execute_result"
    }
   ],
   "source": [
    "df.tail(5)"
   ]
  },
  {
   "cell_type": "code",
   "execution_count": 28,
   "metadata": {},
   "outputs": [
    {
     "data": {
      "text/plain": [
       "(16092, 4)"
      ]
     },
     "execution_count": 28,
     "metadata": {},
     "output_type": "execute_result"
    }
   ],
   "source": [
    "df.dropna(how='any', inplace=True)\n",
    "df.shape"
   ]
  },
  {
   "cell_type": "code",
   "execution_count": 29,
   "metadata": {},
   "outputs": [
    {
     "data": {
      "text/html": [
       "<div>\n",
       "<style scoped>\n",
       "    .dataframe tbody tr th:only-of-type {\n",
       "        vertical-align: middle;\n",
       "    }\n",
       "\n",
       "    .dataframe tbody tr th {\n",
       "        vertical-align: top;\n",
       "    }\n",
       "\n",
       "    .dataframe thead th {\n",
       "        text-align: right;\n",
       "    }\n",
       "</style>\n",
       "<table border=\"1\" class=\"dataframe\">\n",
       "  <thead>\n",
       "    <tr style=\"text-align: right;\">\n",
       "      <th></th>\n",
       "      <th>주차</th>\n",
       "      <th>대여소번호</th>\n",
       "      <th>대여소</th>\n",
       "      <th>대여건수</th>\n",
       "    </tr>\n",
       "  </thead>\n",
       "  <tbody>\n",
       "    <tr>\n",
       "      <th>16087</th>\n",
       "      <td>52</td>\n",
       "      <td>5859</td>\n",
       "      <td>5859. 여의도 삼부아파트</td>\n",
       "      <td>10.0</td>\n",
       "    </tr>\n",
       "    <tr>\n",
       "      <th>16088</th>\n",
       "      <td>52</td>\n",
       "      <td>5860</td>\n",
       "      <td>5860. 어울림병원 앞</td>\n",
       "      <td>7.0</td>\n",
       "    </tr>\n",
       "    <tr>\n",
       "      <th>16089</th>\n",
       "      <td>52</td>\n",
       "      <td>5861</td>\n",
       "      <td>5861. 보라주유소 앞</td>\n",
       "      <td>4.0</td>\n",
       "    </tr>\n",
       "    <tr>\n",
       "      <th>16090</th>\n",
       "      <td>52</td>\n",
       "      <td>5862</td>\n",
       "      <td>5862. 당산역11번출구</td>\n",
       "      <td>9.0</td>\n",
       "    </tr>\n",
       "    <tr>\n",
       "      <th>16091</th>\n",
       "      <td>52</td>\n",
       "      <td>6053</td>\n",
       "      <td>6053. 중부세무서 앞</td>\n",
       "      <td>2.0</td>\n",
       "    </tr>\n",
       "  </tbody>\n",
       "</table>\n",
       "</div>"
      ],
      "text/plain": [
       "       주차 대여소번호              대여소  대여건수\n",
       "16087  52  5859  5859. 여의도 삼부아파트  10.0\n",
       "16088  52  5860    5860. 어울림병원 앞   7.0\n",
       "16089  52  5861    5861. 보라주유소 앞   4.0\n",
       "16090  52  5862   5862. 당산역11번출구   9.0\n",
       "16091  52  6053    6053. 중부세무서 앞   2.0"
      ]
     },
     "execution_count": 29,
     "metadata": {},
     "output_type": "execute_result"
    }
   ],
   "source": [
    "df.tail(5)"
   ]
  },
  {
   "cell_type": "code",
   "execution_count": 30,
   "metadata": {},
   "outputs": [
    {
     "data": {
      "text/html": [
       "<div>\n",
       "<style scoped>\n",
       "    .dataframe tbody tr th:only-of-type {\n",
       "        vertical-align: middle;\n",
       "    }\n",
       "\n",
       "    .dataframe tbody tr th {\n",
       "        vertical-align: top;\n",
       "    }\n",
       "\n",
       "    .dataframe thead th {\n",
       "        text-align: right;\n",
       "    }\n",
       "</style>\n",
       "<table border=\"1\" class=\"dataframe\">\n",
       "  <thead>\n",
       "    <tr style=\"text-align: right;\">\n",
       "      <th></th>\n",
       "      <th>주차</th>\n",
       "      <th>대여소번호</th>\n",
       "      <th>대여소</th>\n",
       "      <th>대여건수</th>\n",
       "    </tr>\n",
       "  </thead>\n",
       "  <tbody>\n",
       "    <tr>\n",
       "      <th>0</th>\n",
       "      <td>1</td>\n",
       "      <td>102</td>\n",
       "      <td>102. 망원역 1번출구 앞</td>\n",
       "      <td>171</td>\n",
       "    </tr>\n",
       "    <tr>\n",
       "      <th>1</th>\n",
       "      <td>1</td>\n",
       "      <td>103</td>\n",
       "      <td>103. 망원역 2번출구 앞</td>\n",
       "      <td>157</td>\n",
       "    </tr>\n",
       "    <tr>\n",
       "      <th>2</th>\n",
       "      <td>1</td>\n",
       "      <td>104</td>\n",
       "      <td>104. 합정역 1번출구 앞</td>\n",
       "      <td>141</td>\n",
       "    </tr>\n",
       "    <tr>\n",
       "      <th>3</th>\n",
       "      <td>1</td>\n",
       "      <td>105</td>\n",
       "      <td>105. 합정역 5번출구 앞</td>\n",
       "      <td>71</td>\n",
       "    </tr>\n",
       "    <tr>\n",
       "      <th>4</th>\n",
       "      <td>1</td>\n",
       "      <td>106</td>\n",
       "      <td>106. 합정역 7번출구 앞</td>\n",
       "      <td>145</td>\n",
       "    </tr>\n",
       "    <tr>\n",
       "      <th>...</th>\n",
       "      <td>...</td>\n",
       "      <td>...</td>\n",
       "      <td>...</td>\n",
       "      <td>...</td>\n",
       "    </tr>\n",
       "    <tr>\n",
       "      <th>16087</th>\n",
       "      <td>52</td>\n",
       "      <td>5859</td>\n",
       "      <td>5859. 여의도 삼부아파트</td>\n",
       "      <td>10</td>\n",
       "    </tr>\n",
       "    <tr>\n",
       "      <th>16088</th>\n",
       "      <td>52</td>\n",
       "      <td>5860</td>\n",
       "      <td>5860. 어울림병원 앞</td>\n",
       "      <td>7</td>\n",
       "    </tr>\n",
       "    <tr>\n",
       "      <th>16089</th>\n",
       "      <td>52</td>\n",
       "      <td>5861</td>\n",
       "      <td>5861. 보라주유소 앞</td>\n",
       "      <td>4</td>\n",
       "    </tr>\n",
       "    <tr>\n",
       "      <th>16090</th>\n",
       "      <td>52</td>\n",
       "      <td>5862</td>\n",
       "      <td>5862. 당산역11번출구</td>\n",
       "      <td>9</td>\n",
       "    </tr>\n",
       "    <tr>\n",
       "      <th>16091</th>\n",
       "      <td>52</td>\n",
       "      <td>6053</td>\n",
       "      <td>6053. 중부세무서 앞</td>\n",
       "      <td>2</td>\n",
       "    </tr>\n",
       "  </tbody>\n",
       "</table>\n",
       "<p>16092 rows × 4 columns</p>\n",
       "</div>"
      ],
      "text/plain": [
       "       주차 대여소번호              대여소  대여건수\n",
       "0       1   102  102. 망원역 1번출구 앞   171\n",
       "1       1   103  103. 망원역 2번출구 앞   157\n",
       "2       1   104  104. 합정역 1번출구 앞   141\n",
       "3       1   105  105. 합정역 5번출구 앞    71\n",
       "4       1   106  106. 합정역 7번출구 앞   145\n",
       "...    ..   ...              ...   ...\n",
       "16087  52  5859  5859. 여의도 삼부아파트    10\n",
       "16088  52  5860    5860. 어울림병원 앞     7\n",
       "16089  52  5861    5861. 보라주유소 앞     4\n",
       "16090  52  5862   5862. 당산역11번출구     9\n",
       "16091  52  6053    6053. 중부세무서 앞     2\n",
       "\n",
       "[16092 rows x 4 columns]"
      ]
     },
     "execution_count": 30,
     "metadata": {},
     "output_type": "execute_result"
    }
   ],
   "source": [
    "df['대여건수'] = df['대여건수'].astype('int')\n",
    "df"
   ]
  },
  {
   "cell_type": "code",
   "execution_count": 31,
   "metadata": {},
   "outputs": [
    {
     "data": {
      "text/html": [
       "<div>\n",
       "<style scoped>\n",
       "    .dataframe tbody tr th:only-of-type {\n",
       "        vertical-align: middle;\n",
       "    }\n",
       "\n",
       "    .dataframe tbody tr th {\n",
       "        vertical-align: top;\n",
       "    }\n",
       "\n",
       "    .dataframe thead th {\n",
       "        text-align: right;\n",
       "    }\n",
       "</style>\n",
       "<table border=\"1\" class=\"dataframe\">\n",
       "  <thead>\n",
       "    <tr style=\"text-align: right;\">\n",
       "      <th></th>\n",
       "      <th>주차</th>\n",
       "      <th>대여소번호</th>\n",
       "      <th>대여소</th>\n",
       "      <th>대여건수</th>\n",
       "    </tr>\n",
       "  </thead>\n",
       "  <tbody>\n",
       "    <tr>\n",
       "      <th>0</th>\n",
       "      <td>1</td>\n",
       "      <td>102</td>\n",
       "      <td>102. 망원역 1번출구 앞</td>\n",
       "      <td>171</td>\n",
       "    </tr>\n",
       "    <tr>\n",
       "      <th>1</th>\n",
       "      <td>1</td>\n",
       "      <td>103</td>\n",
       "      <td>103. 망원역 2번출구 앞</td>\n",
       "      <td>157</td>\n",
       "    </tr>\n",
       "    <tr>\n",
       "      <th>2</th>\n",
       "      <td>1</td>\n",
       "      <td>104</td>\n",
       "      <td>104. 합정역 1번출구 앞</td>\n",
       "      <td>141</td>\n",
       "    </tr>\n",
       "    <tr>\n",
       "      <th>3</th>\n",
       "      <td>1</td>\n",
       "      <td>105</td>\n",
       "      <td>105. 합정역 5번출구 앞</td>\n",
       "      <td>71</td>\n",
       "    </tr>\n",
       "    <tr>\n",
       "      <th>4</th>\n",
       "      <td>1</td>\n",
       "      <td>106</td>\n",
       "      <td>106. 합정역 7번출구 앞</td>\n",
       "      <td>145</td>\n",
       "    </tr>\n",
       "  </tbody>\n",
       "</table>\n",
       "</div>"
      ],
      "text/plain": [
       "  주차 대여소번호              대여소  대여건수\n",
       "0  1   102  102. 망원역 1번출구 앞   171\n",
       "1  1   103  103. 망원역 2번출구 앞   157\n",
       "2  1   104  104. 합정역 1번출구 앞   141\n",
       "3  1   105  105. 합정역 5번출구 앞    71\n",
       "4  1   106  106. 합정역 7번출구 앞   145"
      ]
     },
     "execution_count": 31,
     "metadata": {},
     "output_type": "execute_result"
    }
   ],
   "source": [
    "df.head()"
   ]
  },
  {
   "cell_type": "markdown",
   "metadata": {},
   "source": [
    "- 대여소 마스터 DB와 CSV 이름 매칭\n",
    "- 대여소번호\t보관소(대여소)명\t자치구\t상세주소\t위도\t경도\t설치시기\t도로명주소\t법정동\t행정동\n",
    "- 'sta_id', 'sname', 'gu', 'addr1', 'lat', 'lng', 'install_date', 'addr2', 'dong1', 'dong2'\n"
   ]
  },
  {
   "cell_type": "markdown",
   "metadata": {},
   "source": [
    "#### 컬럼 이름 영어로 변경 - 정류소 master"
   ]
  },
  {
   "cell_type": "code",
   "execution_count": 32,
   "metadata": {},
   "outputs": [
    {
     "data": {
      "text/html": [
       "<div>\n",
       "<style scoped>\n",
       "    .dataframe tbody tr th:only-of-type {\n",
       "        vertical-align: middle;\n",
       "    }\n",
       "\n",
       "    .dataframe tbody tr th {\n",
       "        vertical-align: top;\n",
       "    }\n",
       "\n",
       "    .dataframe thead th {\n",
       "        text-align: right;\n",
       "    }\n",
       "</style>\n",
       "<table border=\"1\" class=\"dataframe\">\n",
       "  <thead>\n",
       "    <tr style=\"text-align: right;\">\n",
       "      <th></th>\n",
       "      <th>week</th>\n",
       "      <th>sta_id</th>\n",
       "      <th>addr</th>\n",
       "      <th>no_rent</th>\n",
       "    </tr>\n",
       "  </thead>\n",
       "  <tbody>\n",
       "    <tr>\n",
       "      <th>0</th>\n",
       "      <td>1</td>\n",
       "      <td>102</td>\n",
       "      <td>102. 망원역 1번출구 앞</td>\n",
       "      <td>171</td>\n",
       "    </tr>\n",
       "    <tr>\n",
       "      <th>1</th>\n",
       "      <td>1</td>\n",
       "      <td>103</td>\n",
       "      <td>103. 망원역 2번출구 앞</td>\n",
       "      <td>157</td>\n",
       "    </tr>\n",
       "    <tr>\n",
       "      <th>2</th>\n",
       "      <td>1</td>\n",
       "      <td>104</td>\n",
       "      <td>104. 합정역 1번출구 앞</td>\n",
       "      <td>141</td>\n",
       "    </tr>\n",
       "    <tr>\n",
       "      <th>3</th>\n",
       "      <td>1</td>\n",
       "      <td>105</td>\n",
       "      <td>105. 합정역 5번출구 앞</td>\n",
       "      <td>71</td>\n",
       "    </tr>\n",
       "    <tr>\n",
       "      <th>4</th>\n",
       "      <td>1</td>\n",
       "      <td>106</td>\n",
       "      <td>106. 합정역 7번출구 앞</td>\n",
       "      <td>145</td>\n",
       "    </tr>\n",
       "  </tbody>\n",
       "</table>\n",
       "</div>"
      ],
      "text/plain": [
       "  week sta_id             addr  no_rent\n",
       "0    1    102  102. 망원역 1번출구 앞      171\n",
       "1    1    103  103. 망원역 2번출구 앞      157\n",
       "2    1    104  104. 합정역 1번출구 앞      141\n",
       "3    1    105  105. 합정역 5번출구 앞       71\n",
       "4    1    106  106. 합정역 7번출구 앞      145"
      ]
     },
     "execution_count": 32,
     "metadata": {},
     "output_type": "execute_result"
    }
   ],
   "source": [
    "df.columns = ['week', 'sta_id', 'addr', 'no_rent']\n",
    "df.head()"
   ]
  },
  {
   "cell_type": "code",
   "execution_count": 38,
   "metadata": {},
   "outputs": [
    {
     "data": {
      "text/plain": [
       "week        int32\n",
       "sta_id      int32\n",
       "addr       object\n",
       "no_rent     int32\n",
       "dtype: object"
      ]
     },
     "execution_count": 38,
     "metadata": {},
     "output_type": "execute_result"
    }
   ],
   "source": [
    "df.dtypes"
   ]
  },
  {
   "cell_type": "code",
   "execution_count": 37,
   "metadata": {},
   "outputs": [],
   "source": [
    "df = df.astype({'week':'int', 'sta_id':'int'})"
   ]
  },
  {
   "cell_type": "code",
   "execution_count": 34,
   "metadata": {},
   "outputs": [
    {
     "data": {
      "text/plain": [
       "week       0\n",
       "sta_id     0\n",
       "addr       0\n",
       "no_rent    0\n",
       "dtype: int64"
      ]
     },
     "execution_count": 34,
     "metadata": {},
     "output_type": "execute_result"
    }
   ],
   "source": [
    "df.isna().sum()"
   ]
  },
  {
   "cell_type": "code",
   "execution_count": 35,
   "metadata": {},
   "outputs": [
    {
     "data": {
      "text/plain": [
       "(16092, 4)"
      ]
     },
     "execution_count": 35,
     "metadata": {},
     "output_type": "execute_result"
    }
   ],
   "source": [
    "df.shape"
   ]
  },
  {
   "cell_type": "code",
   "execution_count": 36,
   "metadata": {},
   "outputs": [
    {
     "data": {
      "text/plain": [
       "week          6\n",
       "sta_id     2708\n",
       "addr       2708\n",
       "no_rent     300\n",
       "dtype: int64"
      ]
     },
     "execution_count": 36,
     "metadata": {},
     "output_type": "execute_result"
    }
   ],
   "source": [
    "df.nunique()"
   ]
  },
  {
   "cell_type": "code",
   "execution_count": 15,
   "metadata": {},
   "outputs": [
    {
     "data": {
      "text/plain": [
       "(2137, 10)"
      ]
     },
     "execution_count": 15,
     "metadata": {},
     "output_type": "execute_result"
    }
   ],
   "source": [
    "df.shape"
   ]
  },
  {
   "cell_type": "code",
   "execution_count": 43,
   "metadata": {},
   "outputs": [
    {
     "name": "stdout",
     "output_type": "stream",
     "text": [
      " [function name] : [pyarrowDf_to_db_executemany] : [2023-12-06 17:55:10] \n",
      "[function]:[pyarrowDf_to_db_executemany], [chunksize]:[5,000], [elapsed time]:[0.09 second]\n"
     ]
    }
   ],
   "source": [
    "pyarrowDf_to_db_executemany(df, 5000)"
   ]
  },
  {
   "cell_type": "code",
   "execution_count": null,
   "metadata": {},
   "outputs": [],
   "source": []
  }
 ],
 "metadata": {
  "kernelspec": {
   "display_name": "base",
   "language": "python",
   "name": "python3"
  },
  "language_info": {
   "codemirror_mode": {
    "name": "ipython",
    "version": 3
   },
   "file_extension": ".py",
   "mimetype": "text/x-python",
   "name": "python",
   "nbconvert_exporter": "python",
   "pygments_lexer": "ipython3",
   "version": "3.11.4"
  }
 },
 "nbformat": 4,
 "nbformat_minor": 2
}
