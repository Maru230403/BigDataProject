{
 "cells": [
  {
   "cell_type": "code",
   "execution_count": 17,
   "metadata": {},
   "outputs": [
    {
     "name": "stdout",
     "output_type": "stream",
     "text": [
      "API Key: 6c6179774a6164613931756e4e4749\n"
     ]
    }
   ],
   "source": [
    "# 파일에서 인증키 읽어오는 함수\n",
    "def get_api_key_from_file(file_path):\n",
    "    try:\n",
    "        with open(file_path, 'r') as file:\n",
    "            api_key = file.read().strip()\n",
    "        return api_key\n",
    "    except FileNotFoundError:\n",
    "        print(f\"Error: {file_path} not found.\")\n",
    "        return None\n",
    "\n",
    "# 파일에 인증키 저장하는 함수\n",
    "def save_api_key_to_file(file_path, api_key):\n",
    "    with open(file_path, 'w') as file:\n",
    "        file.write(api_key)\n",
    "\n",
    "# 파일 경로\n",
    "file_path = \"서울시공공자전거실시간대여정보api_key\"\n",
    "\n",
    "# 파일에서 인증키 읽기\n",
    "api_key = get_api_key_from_file(file_path)\n",
    "\n",
    "if api_key:\n",
    "    print(f\"API Key: {api_key}\")\n",
    "    # 여기에 API를 사용하는 코드를 추가할 수 있습니다.\n",
    "else:\n",
    "    print(\"API Key not available.\")\n"
   ]
  },
  {
   "cell_type": "code",
   "execution_count": 21,
   "metadata": {},
   "outputs": [
    {
     "name": "stdout",
     "output_type": "stream",
     "text": [
      "API Key: 6c6179774a6164613931756e4e4749\n",
      "Failed to decode JSON response. Response content: <RESULT><CODE>ERROR-336</CODE><MESSAGE><![CDATA[데이터요청은 한번에 최대 1000건을 넘을 수 없습니다.\n",
      "요청종료위치에서 요청시작위치를 뺀 값이 1000을 넘지 않도록 수정하세요.]]></MESSAGE></RESULT>\n",
      "Failed to get API response.\n"
     ]
    },
    {
     "ename": "AttributeError",
     "evalue": "'NoneType' object has no attribute 'get'",
     "output_type": "error",
     "traceback": [
      "\u001b[1;31m---------------------------------------------------------------------------\u001b[0m",
      "\u001b[1;31mAttributeError\u001b[0m                            Traceback (most recent call last)",
      "\u001b[1;32md:\\WorkSpace\\Pro\\따릉이.ipynb 셀 2\u001b[0m line \u001b[0;36m5\n\u001b[0;32m     <a href='vscode-notebook-cell:/d%3A/WorkSpace/Pro/%EB%94%B0%EB%A6%89%EC%9D%B4.ipynb#W4sZmlsZQ%3D%3D?line=50'>51</a>\u001b[0m         start \u001b[39m=\u001b[39m end \u001b[39m+\u001b[39m \u001b[39m1\u001b[39m\n\u001b[0;32m     <a href='vscode-notebook-cell:/d%3A/WorkSpace/Pro/%EB%94%B0%EB%A6%89%EC%9D%B4.ipynb#W4sZmlsZQ%3D%3D?line=52'>53</a>\u001b[0m         \u001b[39m# 더 이상 가져올 데이터가 없을 경우 반복 중단\u001b[39;00m\n\u001b[1;32m---> <a href='vscode-notebook-cell:/d%3A/WorkSpace/Pro/%EB%94%B0%EB%A6%89%EC%9D%B4.ipynb#W4sZmlsZQ%3D%3D?line=53'>54</a>\u001b[0m         \u001b[39mif\u001b[39;00m \u001b[39mnot\u001b[39;00m api_response\u001b[39m.\u001b[39mget(\u001b[39m'\u001b[39m\u001b[39mrentBikeStatus\u001b[39m\u001b[39m'\u001b[39m, {})\u001b[39m.\u001b[39mget(\u001b[39m'\u001b[39m\u001b[39mrow\u001b[39m\u001b[39m'\u001b[39m, []):\n\u001b[0;32m     <a href='vscode-notebook-cell:/d%3A/WorkSpace/Pro/%EB%94%B0%EB%A6%89%EC%9D%B4.ipynb#W4sZmlsZQ%3D%3D?line=54'>55</a>\u001b[0m             \u001b[39mbreak\u001b[39;00m\n\u001b[0;32m     <a href='vscode-notebook-cell:/d%3A/WorkSpace/Pro/%EB%94%B0%EB%A6%89%EC%9D%B4.ipynb#W4sZmlsZQ%3D%3D?line=55'>56</a>\u001b[0m \u001b[39melse\u001b[39;00m:\n",
      "\u001b[1;31mAttributeError\u001b[0m: 'NoneType' object has no attribute 'get'"
     ]
    }
   ],
   "source": [
    "import requests\n",
    "import json\n",
    "\n",
    "def call_api(api_key, start, end):\n",
    "    base_url = \"http://openapi.seoul.go.kr:8088\"\n",
    "    service_name = \"bikeList\"\n",
    "    \n",
    "    params = {\n",
    "        'key': api_key,\n",
    "        'type': 'json',\n",
    "        'service': service_name,\n",
    "        'start': str(start),\n",
    "        'end': str(end),\n",
    "        'from_date': '20231121',\n",
    "        'to_date': '20231121'\n",
    "    }\n",
    "\n",
    "    endpoint = f\"{base_url}/{params['key']}/{params['service']}/{params['start']}/{params['end']}/{params['from_date']}/{params['to_date']}/{params['type']}/\"\n",
    "\n",
    "    response = requests.get(endpoint, params=params)\n",
    "\n",
    "    try:\n",
    "        data = response.json()\n",
    "        return data\n",
    "    except json.JSONDecodeError:\n",
    "        print(f\"Failed to decode JSON response. Response content: {response.text}\")\n",
    "        return None\n",
    "\n",
    "# 파일에서 인증키 읽어오기\n",
    "api_key = get_api_key_from_file(file_path)\n",
    "\n",
    "if api_key:\n",
    "    print(f\"API Key: {api_key}\")\n",
    "\n",
    "    # API 호출\n",
    "    batch_size = 1000\n",
    "    start = 1\n",
    "\n",
    "    while True:\n",
    "        end = start + batch_size - 1\n",
    "        api_response = call_api(api_key, start, end)\n",
    "\n",
    "        # API 응답 출력\n",
    "        if api_response:\n",
    "            print(\"API Response:\")\n",
    "            print(api_response)\n",
    "        else:\n",
    "            print(\"Failed to get API response.\")\n",
    "\n",
    "        # 다음 배치를 위해 start 업데이트\n",
    "        start = end + 1\n",
    "\n",
    "        # 더 이상 가져올 데이터가 없을 경우 반복 중단\n",
    "        if not api_response.get('rentBikeStatus', {}).get('row', []):\n",
    "            break\n",
    "else:\n",
    "    print(\"API Key not available.\")\n"
   ]
  },
  {
   "cell_type": "code",
   "execution_count": 12,
   "metadata": {},
   "outputs": [],
   "source": [
    "# 파라미터 설정\n",
    "params = {\n",
    "    'key': '6c6179774a6164613931756e4e4749',\n",
    "    'type': 'json',\n",
    "    'service': 'bikeList',\n",
    "    'start': '1',\n",
    "    'end': '2',\n",
    "    'from_date': '20231121',\n",
    "    'to_date': '20231121'\n",
    "}\n"
   ]
  },
  {
   "cell_type": "code",
   "execution_count": 14,
   "metadata": {},
   "outputs": [
    {
     "name": "stdout",
     "output_type": "stream",
     "text": [
      "Failed to decode JSON response. Response content: <RESULT><CODE>ERROR-336</CODE><MESSAGE><![CDATA[데이터요청은 한번에 최대 1000건을 넘을 수 없습니다.\n",
      "요청종료위치에서 요청시작위치를 뺀 값이 1000을 넘지 않도록 수정하세요.]]></MESSAGE></RESULT>\n"
     ]
    }
   ],
   "source": [
    "import requests\n",
    "import json\n",
    "\n",
    "def get_bike_rental_data(api_key, from_date, to_date):\n",
    "    base_url = \"http://openapi.seoul.go.kr:8088\"\n",
    "    service_name = \"bikeList\"\n",
    "\n",
    "    params = {\n",
    "        'key': api_key,\n",
    "        'type': 'json',\n",
    "        'service': service_name,\n",
    "        'start': '1',\n",
    "        'end': '2',\n",
    "        'from_date': from_date,\n",
    "        'to_date': to_date\n",
    "    }\n",
    "\n",
    "    endpoint = f\"{base_url}/{params['key']}/{params['service']}/{params['start']}/{params['end']}/{params['from_date']}/{params['to_date']}/{params['type']}/\"\n",
    "\n",
    "    response = requests.get(endpoint, params=params)\n",
    "\n",
    "    try:\n",
    "        data = response.json()\n",
    "        return data\n",
    "    except json.JSONDecodeError:\n",
    "        print(f\"Failed to decode JSON response. Response content: {response.text}\")\n",
    "        return None\n",
    "\n",
    "# 여기에 자신의 API 키를 넣어주세요.\n",
    "api_key = \"6c6179774a6164613931756e4e4749\"\n",
    "from_date = \"20231121\"\n",
    "to_date = \"20231121\"\n",
    "\n",
    "rental_data = get_bike_rental_data(api_key, from_date, to_date)\n",
    "\n",
    "# 가져온 데이터를 출력\n",
    "if rental_data:\n",
    "    print(rental_data)\n"
   ]
  },
  {
   "cell_type": "code",
   "execution_count": null,
   "metadata": {},
   "outputs": [],
   "source": []
  }
 ],
 "metadata": {
  "kernelspec": {
   "display_name": "base",
   "language": "python",
   "name": "python3"
  },
  "language_info": {
   "codemirror_mode": {
    "name": "ipython",
    "version": 3
   },
   "file_extension": ".py",
   "mimetype": "text/x-python",
   "name": "python",
   "nbconvert_exporter": "python",
   "pygments_lexer": "ipython3",
   "version": "3.11.4"
  }
 },
 "nbformat": 4,
 "nbformat_minor": 2
}
