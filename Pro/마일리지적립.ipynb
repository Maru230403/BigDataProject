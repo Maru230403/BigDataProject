{
 "cells": [
  {
   "cell_type": "code",
   "execution_count": 1,
   "metadata": {},
   "outputs": [
    {
     "name": "stdout",
     "output_type": "stream",
     "text": [
      "10km를 이동하여 10마일리지를 적립했습니다.\n",
      "누적 마일리지: 10 마일\n",
      "20km를 이동하여 20마일리지를 적립했습니다.\n",
      "누적 마일리지: 30 마일\n",
      "15km를 이동하여 15마일리지를 적립했습니다.\n",
      "누적 마일리지: 45 마일\n"
     ]
    }
   ],
   "source": [
    "class BicycleMileage:\n",
    "    def __init__(self):\n",
    "        self.total_mileage = 0  # 누적 마일리지 초기화\n",
    "\n",
    "    def ride(self, distance):\n",
    "        if distance > 0:\n",
    "            self.total_mileage += distance\n",
    "            print(f\"{distance}km를 이동하여 {distance}마일리지를 적립했습니다.\")\n",
    "        else:\n",
    "            print(\"이동 거리는 0보다 커야 합니다.\")\n",
    "\n",
    "    def check_mileage(self):\n",
    "        print(f\"누적 마일리지: {self.total_mileage} 마일\")\n",
    "\n",
    "# 사용 예시\n",
    "if __name__ == \"__main__\":\n",
    "    bicycle = BicycleMileage()\n",
    "\n",
    "    # 이동거리와 마일리지 적립\n",
    "    bicycle.ride(10)\n",
    "    bicycle.check_mileage()\n",
    "\n",
    "    bicycle.ride(20)\n",
    "    bicycle.check_mileage()\n",
    "\n",
    "    bicycle.ride(15)\n",
    "    bicycle.check_mileage()\n"
   ]
  },
  {
   "cell_type": "code",
   "execution_count": null,
   "metadata": {},
   "outputs": [],
   "source": []
  }
 ],
 "metadata": {
  "kernelspec": {
   "display_name": "base",
   "language": "python",
   "name": "python3"
  },
  "language_info": {
   "codemirror_mode": {
    "name": "ipython",
    "version": 3
   },
   "file_extension": ".py",
   "mimetype": "text/x-python",
   "name": "python",
   "nbconvert_exporter": "python",
   "pygments_lexer": "ipython3",
   "version": "3.11.4"
  }
 },
 "nbformat": 4,
 "nbformat_minor": 2
}
