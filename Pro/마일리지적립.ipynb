{
 "cells": [
  {
   "cell_type": "code",
   "execution_count": 1,
   "metadata": {},
   "outputs": [
    {
     "name": "stdout",
     "output_type": "stream",
     "text": [
      "10km를 이동하여 10마일리지를 적립했습니다.\n",
      "누적 마일리지: 10 마일\n",
      "20km를 이동하여 20마일리지를 적립했습니다.\n",
      "누적 마일리지: 30 마일\n",
      "15km를 이동하여 15마일리지를 적립했습니다.\n",
      "누적 마일리지: 45 마일\n"
     ]
    }
   ],
   "source": [
    "class BicycleMileage:\n",
    "    def __init__(self):\n",
    "        self.total_mileage = 0  # 누적 마일리지 초기화\n",
    "\n",
    "    def ride(self, distance):\n",
    "        if distance > 0:\n",
    "            self.total_mileage += distance\n",
    "            print(f\"{distance}km를 이동하여 {distance}마일리지를 적립했습니다.\")\n",
    "        else:\n",
    "            print(\"이동 거리는 0보다 커야 합니다.\")\n",
    "\n",
    "    def check_mileage(self):\n",
    "        print(f\"누적 마일리지: {self.total_mileage} 마일\")\n",
    "\n",
    "# 사용 예시\n",
    "if __name__ == \"__main__\":\n",
    "    bicycle = BicycleMileage()\n",
    "\n",
    "    # 이동거리와 마일리지 적립\n",
    "    bicycle.ride(10)\n",
    "    bicycle.check_mileage()\n",
    "\n",
    "    bicycle.ride(20)\n",
    "    bicycle.check_mileage()\n",
    "\n",
    "    bicycle.ride(15)\n",
    "    bicycle.check_mileage()\n"
   ]
  },
  {
   "cell_type": "code",
   "execution_count": 6,
   "metadata": {},
   "outputs": [
    {
     "name": "stdout",
     "output_type": "stream",
     "text": [
      "이용거리: Nonekm\n",
      "적립된 마일리지: 0포인트\n"
     ]
    }
   ],
   "source": [
    "import requests\n",
    "\n",
    "def get_distance(api_key, start_point, end_point):\n",
    "    # 출발지 좌표 변환\n",
    "    url = f'https://dapi.kakao.com/v2/local/geo/transcoord.json?x={start_point[0]}&y={start_point[1]}&input_coord=WTM&output_coord=WGS84'\n",
    "    headers = {'Authorization': f'KakaoAK {api_key}'}\n",
    "    response = requests.get(url, headers=headers)\n",
    "    start_lon, start_lat = response.json()['documents'][0]['x'], response.json()['documents'][0]['y']\n",
    "\n",
    "    # 도착지 좌표 변환\n",
    "    url = f'https://dapi.kakao.com/v2/local/geo/transcoord.json?x={end_point[0]}&y={end_point[1]}&input_coord=WTM&output_coord=WGS84'\n",
    "    response = requests.get(url, headers=headers)\n",
    "    end_lon, end_lat = response.json()['documents'][0]['x'], response.json()['documents'][0]['y']\n",
    "\n",
    "    # 경로 조회\n",
    "    url = f'https://dapi.kakao.com/v2/local/path.json?startX={start_lon}&startY={start_lat}&endX={end_lon}&endY={end_lat}&option=trafast'\n",
    "    response = requests.get(url, headers=headers)\n",
    "    \n",
    "    # 실제 API 응답을 확인하여 'documents' 키의 존재 여부를 확인\n",
    "    if 'documents' in response.json():\n",
    "        distance = response.json()['documents'][0]['distance']\n",
    "    else:\n",
    "        distance = None\n",
    "\n",
    "    return distance\n",
    "\n",
    "def calculate_mileage(distance):\n",
    "    # 마일리지 계산 로직 구현\n",
    "    # 예: 거리 1km당 100포인트 적립\n",
    "    mileage_per_km = 100\n",
    "    if distance is not None:\n",
    "        mileage = distance * mileage_per_km\n",
    "    else:\n",
    "        mileage = 0  # 거리가 None인 경우 0으로 처리하거나 다른 방법으로 처리\n",
    "    return mileage\n",
    "\n",
    "# 사용자 입력 예시\n",
    "api_key = 'ec9fb865ecc96649854fe4493916d802'\n",
    "start_point = (37.5665, 126.9780)  # 출발지 좌표 (위도, 경도)\n",
    "end_point = (37.5665, 127.0026)    # 도착지 좌표 (위도, 경도)\n",
    "\n",
    "# 거리 측정\n",
    "distance = get_distance(api_key, start_point, end_point)\n",
    "\n",
    "# 마일리지 적립\n",
    "mileage = calculate_mileage(distance)\n",
    "\n",
    "print(f'이용거리: {distance}km')\n",
    "print(f'적립된 마일리지: {mileage}포인트')\n"
   ]
  },
  {
   "cell_type": "code",
   "execution_count": null,
   "metadata": {},
   "outputs": [],
   "source": []
  }
 ],
 "metadata": {
  "kernelspec": {
   "display_name": "base",
   "language": "python",
   "name": "python3"
  },
  "language_info": {
   "codemirror_mode": {
    "name": "ipython",
    "version": 3
   },
   "file_extension": ".py",
   "mimetype": "text/x-python",
   "name": "python",
   "nbconvert_exporter": "python",
   "pygments_lexer": "ipython3",
   "version": "3.11.4"
  }
 },
 "nbformat": 4,
 "nbformat_minor": 2
}
